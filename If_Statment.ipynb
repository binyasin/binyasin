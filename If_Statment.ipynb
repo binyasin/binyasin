{
  "nbformat": 4,
  "nbformat_minor": 0,
  "metadata": {
    "colab": {
      "provenance": [],
      "authorship_tag": "ABX9TyP5R2YggppYIovXxVPFIzU3",
      "include_colab_link": true
    },
    "kernelspec": {
      "name": "python3",
      "display_name": "Python 3"
    },
    "language_info": {
      "name": "python"
    }
  },
  "cells": [
    {
      "cell_type": "markdown",
      "metadata": {
        "id": "view-in-github",
        "colab_type": "text"
      },
      "source": [
        "<a href=\"https://colab.research.google.com/github/binyasin/binyasin/blob/main/If_Statment.ipynb\" target=\"_parent\"><img src=\"https://colab.research.google.com/assets/colab-badge.svg\" alt=\"Open In Colab\"/></a>"
      ]
    },
    {
      "cell_type": "markdown",
      "source": [
        "Write a program that prints the first 20 even numbers. There are several correct approaches, but they all use a loop of some sort. Do no write twenty print statements\n",
        "\n",
        "The first even number is 0:"
      ],
      "metadata": {
        "id": "jty8VVaMtENH"
      }
    },
    {
      "cell_type": "code",
      "source": [
        "vlist = []\n",
        "for i in range(20):\n",
        "    vlist.append(i*2)\n",
        "print(vlist)"
      ],
      "metadata": {
        "colab": {
          "base_uri": "https://localhost:8080/"
        },
        "id": "tugvo8UQt_vO",
        "outputId": "4ff33189-b633-4388-fe6a-3534278e606c"
      },
      "execution_count": 5,
      "outputs": [
        {
          "output_type": "stream",
          "name": "stdout",
          "text": [
            "[0, 2, 4, 6, 8, 10, 12, 14, 16, 18, 20, 22, 24, 26, 28, 30, 32, 34, 36, 38]\n"
          ]
        }
      ]
    },
    {
      "cell_type": "markdown",
      "source": [
        "Write a program which asks a user for their age and lets them know if they can or can't vote in the following three fictional countries.\n",
        "How old are you? 20 You can vote in Peturksbouipo where the voting age is 16. You cannot vote in Stanlau where the voting age is 25. You cannot vote in Mayengua where the voting age is 48."
      ],
      "metadata": {
        "id": "kRQ2tjg3wJXC"
      }
    },
    {
      "cell_type": "code",
      "source": [
        "vage = input ('How old are you?')\n",
        "if int(vage) >= 16:\n",
        "    print('You can vote in Peturksbouipo where the voting age is 16.')\n",
        "    print('You cannot vote in Stanlau where the voting age is 25.')\n",
        "    print('You cannot vote in Mayengua where the voting age is 48.')\n",
        ""
      ],
      "metadata": {
        "colab": {
          "base_uri": "https://localhost:8080/"
        },
        "id": "kcQqzvw6wPZk",
        "outputId": "9dcbcdac-f3f1-4f8e-e7c9-2085c7e2febb"
      },
      "execution_count": 6,
      "outputs": [
        {
          "output_type": "stream",
          "name": "stdout",
          "text": [
            "How old are you?25\n",
            "You can vote in Peturksbouipo where the voting age is 16.\n",
            "You cannot vote in Stanlau where the voting age is 25.\n",
            "You cannot vote in Mayengua where the voting age is 48.\n"
          ]
        }
      ]
    },
    {
      "cell_type": "markdown",
      "source": [
        "Write a program that reads a year from the user and tells whether a given year is a leap year or not."
      ],
      "metadata": {
        "id": "b3UF2fl4w3qp"
      }
    },
    {
      "cell_type": "code",
      "source": [
        "leapyear = input(\"Enter a year wheather is a leap year or not: \")\n",
        "if int(leapyear) % 4 == 0:\n",
        "    print(\"This is a leap year\")\n",
        "else:\n",
        "    print(\"This is not a leap year\")"
      ],
      "metadata": {
        "colab": {
          "base_uri": "https://localhost:8080/"
        },
        "id": "9qV2-YObw5uT",
        "outputId": "9016b3b2-b780-4d18-8bc5-c4a106fbfc98"
      },
      "execution_count": 8,
      "outputs": [
        {
          "output_type": "stream",
          "name": "stdout",
          "text": [
            "Enter a year wheather is a leap year or not: 2025\n",
            "This is not a leap year\n"
          ]
        }
      ]
    },
    {
      "cell_type": "markdown",
      "source": [
        "Write a program which asks the user how tall they are and prints whether or not they're taller than a pre-specified minimum height."
      ],
      "metadata": {
        "id": "gTIU8ztoxsFX"
      }
    },
    {
      "cell_type": "code",
      "source": [
        "tall = int(input(\"HOW TALL ARE YOU: \"))\n",
        "if tall >= 40:\n",
        "    print(\"You are tall enough to ride \")\n",
        "else:\n",
        "    print(\"You're not tall enough to ride, but maybe next year!\")"
      ],
      "metadata": {
        "colab": {
          "base_uri": "https://localhost:8080/"
        },
        "id": "zueauArExtNX",
        "outputId": "16dc8b5c-12b5-469f-b20a-e8d0302c62fe"
      },
      "execution_count": 16,
      "outputs": [
        {
          "output_type": "stream",
          "name": "stdout",
          "text": [
            "HOW TALL ARE YOU: 30\n",
            "You're not tall enough to ride, but maybe next year!\n"
          ]
        }
      ]
    },
    {
      "cell_type": "markdown",
      "source": [
        "Print 10 random numbers in the range 1 to 100\n",
        "Each time you run your program you should get different numbers"
      ],
      "metadata": {
        "id": "d4D185ySzl1y"
      }
    },
    {
      "cell_type": "code",
      "source": [
        "import random\n",
        "\n",
        "for i in range(10):\n",
        "    print(random.randint(1, 100),end= \" \")"
      ],
      "metadata": {
        "colab": {
          "base_uri": "https://localhost:8080/"
        },
        "id": "g639LoRQzrZk",
        "outputId": "45c01cf5-9513-450d-85c7-2b5f4524d44f"
      },
      "execution_count": 24,
      "outputs": [
        {
          "output_type": "stream",
          "name": "stdout",
          "text": [
            "47 46 15 65 82 7 29 75 70 44 "
          ]
        }
      ]
    }
  ]
}
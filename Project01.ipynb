{
  "nbformat": 4,
  "nbformat_minor": 0,
  "metadata": {
    "colab": {
      "provenance": [],
      "authorship_tag": "ABX9TyMNgAP61j/CJQLg3T0wrTY7",
      "include_colab_link": true
    },
    "kernelspec": {
      "name": "python3",
      "display_name": "Python 3"
    },
    "language_info": {
      "name": "python"
    }
  },
  "cells": [
    {
      "cell_type": "markdown",
      "metadata": {
        "id": "view-in-github",
        "colab_type": "text"
      },
      "source": [
        "<a href=\"https://colab.research.google.com/github/binyasin/binyasin/blob/main/Project01.ipynb\" target=\"_parent\"><img src=\"https://colab.research.google.com/assets/colab-badge.svg\" alt=\"Open In Colab\"/></a>"
      ]
    },
    {
      "cell_type": "code",
      "source": [],
      "metadata": {
        "id": "HE5BPuuPxiHa"
      },
      "execution_count": null,
      "outputs": []
    },
    {
      "cell_type": "code",
      "execution_count": 99,
      "metadata": {
        "colab": {
          "base_uri": "https://localhost:8080/"
        },
        "id": "8pcYFrhLevzq",
        "outputId": "1a01ffa2-1c0c-4fb8-b434-80e1392f2374"
      },
      "outputs": [
        {
          "name": "stdout",
          "output_type": "stream",
          "text": [
            "What they want? :joke\n",
            "Here is a joke for you! Panaversity GPT - Sophia is heading out to the grocery store. \n",
            " A programmer tells her: get a liter of milk, and if they have eggs, get 12.\n",
            " Sophia returns with 13 liters of milk. The programmer asks why and Sophia replies:\n",
            " 'because they had eggs'.\n",
            "What they want? :siraj\n",
            "Sorry I only tell jokes.\n",
            "Do you want to hear another joke? (yes/no): no\n"
          ]
        }
      ],
      "source": [
        "while True:\n",
        "    jk = input(\"What they want? :\")\n",
        "    if jk.lower() == \"joke\":\n",
        "        print(\"Here is a joke for you! Panaversity GPT - Sophia is heading out to the grocery store. \\n A programmer tells her: get a liter of milk, and if they have eggs, get 12.\\n Sophia returns with 13 liters of milk. The programmer asks why and Sophia replies:\\n 'because they had eggs'.\")\n",
        "    else:\n",
        "        print(\"Sorry I only tell jokes.\")\n",
        "        choice = input(\"Do you want to hear another joke? (yes/no): \")\n",
        "        if choice.lower() != \"yes\":\n",
        "            break\n",
        "\n"
      ]
    },
    {
      "cell_type": "code",
      "source": [
        "\n",
        "while True:\n",
        "    try:\n",
        "        num = int(input(\"Enter a number: \"))\n",
        "        doubled_num = num * 2\n",
        "\n",
        "        if doubled_num > 100:\n",
        "            print(\"Number exceeded 100. Ending.\")\n",
        "            break\n",
        "        else:\n",
        "            print(\"Your Number is doubled:\", doubled_num)\n",
        "\n",
        "    except ValueError:\n",
        "        print(\"Invalid input. Please enter a number.\")"
      ],
      "metadata": {
        "id": "08egQSc9px6h",
        "colab": {
          "base_uri": "https://localhost:8080/"
        },
        "outputId": "59ef6d69-871f-40a7-a394-3a3ae9337b61"
      },
      "execution_count": 101,
      "outputs": [
        {
          "output_type": "stream",
          "name": "stdout",
          "text": [
            "Enter a number: po\n",
            "Invalid input. Please enter a number.\n",
            "Enter a number: 4545\n",
            "Number exceeded 100. Ending.\n"
          ]
        }
      ]
    },
    {
      "cell_type": "code",
      "source": [
        "import time\n",
        "\n",
        "for i in range(10, -1,-1):\n",
        "    print(i)\n",
        "    time.sleep(1)"
      ],
      "metadata": {
        "colab": {
          "base_uri": "https://localhost:8080/"
        },
        "id": "BYvTW9T7IXrN",
        "outputId": "86fb818b-c11e-42a2-e73f-ae63e3a5a2f4"
      },
      "execution_count": 119,
      "outputs": [
        {
          "output_type": "stream",
          "name": "stdout",
          "text": [
            "10\n",
            "9\n",
            "8\n",
            "7\n",
            "6\n",
            "5\n",
            "4\n",
            "3\n",
            "2\n",
            "1\n",
            "0\n"
          ]
        }
      ]
    },
    {
      "cell_type": "code",
      "source": [
        "import random\n",
        "\n",
        "actual_number = random.randint(1, 99)\n",
        "attempts_left = 7  # Number of attempts allowed\n",
        "\n",
        "print(\"Welcome to the Number Guessing Game!\")\n",
        "\n",
        "while attempts_left > 0:\n",
        "    print(f\"You have {attempts_left} attempts left.\")\n",
        "    try:\n",
        "        guess = int(input(\"Enter your guess (1-99): \"))\n",
        "\n",
        "        if guess == actual_number:\n",
        "            print(\"Congratulations! You guessed the number correctly.\")\n",
        "            break  # Exit the loop if the guess is correct\n",
        "\n",
        "        elif guess < actual_number:\n",
        "            print(\"Too low! Try again.\")\n",
        "\n",
        "        else:\n",
        "            print(\"Too high! Try again.\")\n",
        "\n",
        "    except ValueError:\n",
        "        print(\"Invalid input. Please enter a number.\")\n",
        "\n",
        "    attempts_left -= 1  # Decrease the attempts left\n",
        "\n",
        "if attempts_left == 0:\n",
        "    print(f\"Sorry, you ran out of attempts. The number was {actual_number}.\")\n"
      ],
      "metadata": {
        "colab": {
          "base_uri": "https://localhost:8080/"
        },
        "id": "z3Sxa_8sPEMK",
        "outputId": "882ea2f4-1d11-4371-b80c-e8012b6b6173"
      },
      "execution_count": 156,
      "outputs": [
        {
          "output_type": "stream",
          "name": "stdout",
          "text": [
            "Welcome to the Number Guessing Game!\n",
            "You have 7 attempts left.\n",
            "Enter your guess (1-99): 50\n",
            "Too low! Try again.\n",
            "You have 6 attempts left.\n",
            "Enter your guess (1-99): 36\n",
            "Too low! Try again.\n",
            "You have 5 attempts left.\n",
            "Enter your guess (1-99): 99\n",
            "Too high! Try again.\n",
            "You have 4 attempts left.\n",
            "Enter your guess (1-99): 55\n",
            "Too high! Try again.\n",
            "You have 3 attempts left.\n",
            "Enter your guess (1-99): 54\n",
            "Congratulations! You guessed the number correctly.\n"
          ]
        }
      ]
    },
    {
      "cell_type": "code",
      "source": [
        "import random\n",
        "\n",
        "for _ in range(10):  # Loop 10 times\n",
        "    random_number = random.randint(1, 100)  # Generate a random number between 1 and 100\n",
        "    print(random_number, end=\" \")  # Print the number with a space at the end\n",
        "\n",
        "print()"
      ],
      "metadata": {
        "colab": {
          "base_uri": "https://localhost:8080/"
        },
        "id": "AzWxIp0vbnBY",
        "outputId": "d6ffc8c1-c1a7-4a36-d4fc-f56e09834927"
      },
      "execution_count": 159,
      "outputs": [
        {
          "output_type": "stream",
          "name": "stdout",
          "text": [
            "28 93 35 75 8 82 9 70 82 59 \n"
          ]
        }
      ]
    }
  ]
}
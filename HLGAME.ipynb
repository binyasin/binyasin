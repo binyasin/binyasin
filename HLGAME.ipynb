{
  "nbformat": 4,
  "nbformat_minor": 0,
  "metadata": {
    "colab": {
      "provenance": [],
      "authorship_tag": "ABX9TyOP9ZeBs6BnI58FLg+g1C40",
      "include_colab_link": true
    },
    "kernelspec": {
      "name": "python3",
      "display_name": "Python 3"
    },
    "language_info": {
      "name": "python"
    }
  },
  "cells": [
    {
      "cell_type": "markdown",
      "metadata": {
        "id": "view-in-github",
        "colab_type": "text"
      },
      "source": [
        "<a href=\"https://colab.research.google.com/github/binyasin/binyasin/blob/main/HLGAME.ipynb\" target=\"_parent\"><img src=\"https://colab.research.google.com/assets/colab-badge.svg\" alt=\"Open In Colab\"/></a>"
      ]
    },
    {
      "cell_type": "code",
      "execution_count": 30,
      "metadata": {
        "colab": {
          "base_uri": "https://localhost:8080/"
        },
        "id": "4GuOU17vauNY",
        "outputId": "02207e21-0ace-48d1-b8cd-e2e6b0f8a592"
      },
      "outputs": [
        {
          "output_type": "stream",
          "name": "stdout",
          "text": [
            "Welcome to the High-Low Game!\n",
            "==================================================\n",
            "--------------------------------------------------\n",
            "Round 1\n",
            "Your Number is 65\n",
            "Do you think your number is higher or lower than the computer's?:Higher\n",
            "You got a point +1 , the compute number is,71\n",
            "Better Luck Next Time\n",
            "--------------------------------------------------\n",
            "Round 2\n",
            "Your Number is 64\n",
            "Do you think your number is higher or lower than the computer's?:Lower\n",
            "You are wrong , the compute number is,67\n",
            "--------------------------------------------------\n",
            "Round 3\n",
            "Your Number is 95\n",
            "Do you think your number is higher or lower than the computer's?:Lower\n",
            "You got a point +1 , the compute number is,6\n",
            "Better Luck Next Time\n",
            "--------------------------------------------------\n",
            "Round 4\n",
            "Your Number is 63\n",
            "Do you think your number is higher or lower than the computer's?:Lower\n",
            "You got a point +1 , the compute number is,10\n",
            "Better Luck Next Time\n",
            "--------------------------------------------------\n",
            "Round 5\n",
            "Your Number is 41\n",
            "Do you think your number is higher or lower than the computer's?:Higher\n",
            "You got a point +1 , the compute number is,57\n",
            "Good Job you played really well\n",
            "Your Score is 4\n"
          ]
        }
      ],
      "source": [
        "import random\n",
        "print(\"Welcome to the High-Low Game!\")\n",
        "print(\"=\"*50)\n",
        "NUM_ROUNDS = 5\n",
        "Score= 0\n",
        "for round_num in range(1,NUM_ROUNDS+1):\n",
        "  myNum= random.randint(1,100)\n",
        "  CompNum = random.randint(1,100)\n",
        "  print(\"-\"*50)\n",
        "  print(f\"Round {round_num}\")\n",
        "  print(\"Your Number is\",myNum)\n",
        "  user_input=input(\"Do you think your number is higher or lower than the computer's?:\")\n",
        "  if (\n",
        "    (user_input == \"Higher\" and CompNum > myNum)\n",
        "   or\n",
        "   (user_input ==\"Lower\" and CompNum < myNum)\n",
        "   ):\n",
        "   print(f\"You got a point +1 , the compute number is,{CompNum}\")\n",
        "   if Score == NUM_ROUNDS:\n",
        "    print(\"Wow, You Played a perfect Job\")\n",
        "   elif Score > 2:\n",
        "      print(\"Good Job you played really well\")\n",
        "   else:\n",
        "      print(\"Better Luck Next Time\")\n",
        "   Score +=1\n",
        "  else:\n",
        "   print(f\"You are wrong , the compute number is,{CompNum}\")\n",
        "print(f\"Your Score is {Score}\")\n",
        "\n",
        "\n",
        "\n",
        "\n",
        "\n"
      ]
    }
  ]
}
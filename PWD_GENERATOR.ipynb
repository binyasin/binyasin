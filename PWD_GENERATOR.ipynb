{
  "nbformat": 4,
  "nbformat_minor": 0,
  "metadata": {
    "colab": {
      "provenance": [],
      "authorship_tag": "ABX9TyMmD0iaiOJxszSvFTtS6XM7",
      "include_colab_link": true
    },
    "kernelspec": {
      "name": "python3",
      "display_name": "Python 3"
    },
    "language_info": {
      "name": "python"
    }
  },
  "cells": [
    {
      "cell_type": "markdown",
      "metadata": {
        "id": "view-in-github",
        "colab_type": "text"
      },
      "source": [
        "<a href=\"https://colab.research.google.com/github/binyasin/binyasin/blob/main/PWD_GENERATOR.ipynb\" target=\"_parent\"><img src=\"https://colab.research.google.com/assets/colab-badge.svg\" alt=\"Open In Colab\"/></a>"
      ]
    },
    {
      "cell_type": "markdown",
      "source": [
        "PASSWORD GENERATOR"
      ],
      "metadata": {
        "id": "WMVG5NZmGlpX"
      }
    },
    {
      "cell_type": "code",
      "execution_count": null,
      "metadata": {
        "colab": {
          "base_uri": "https://localhost:8080/"
        },
        "id": "iO-a4ZwdGf39",
        "outputId": "3579ee24-3298-404b-e3c1-b421d3b080b4"
      },
      "outputs": [
        {
          "output_type": "stream",
          "name": "stdout",
          "text": [
            "Welcome to the password generator\n",
            "Amount of passwords to generate: 8\n",
            "Input your password length: 8\n",
            "\n",
            "Here are your passwords: \n",
            "SXOtoL0S\n",
            "*BXE0zHj\n",
            "Ay5tieoP\n",
            "mb5#1WIt\n",
            "YwhP0PyP\n",
            "yPnXsN(I\n",
            "Ok^ArcFf\n",
            "R64byFPc\n"
          ]
        }
      ],
      "source": [
        "import random\n",
        "\n",
        "print(\"Welcome to the password generator\")\n",
        "chars = \"abcdefghijklmnopqrstuvwxyzABCDEFGHIJKLMNOPQRSTUVWXYZ!@#$%^&*()0123456789\"\n",
        "number = int(input(\"Amount of passwords to generate: \"))\n",
        "length = int(input(\"Input your password length: \"))\n",
        "\n",
        "print(\"\\nHere are your passwords: \")\n",
        "\n",
        "for password in range(number):\n",
        "    passwords = \"\"\n",
        "    for c in range(length):\n",
        "        passwords += random.choice(chars)\n",
        "    print(passwords)\n",
        "length = input(\"Input your password length: \")\n",
        "length = int(length)"
      ]
    }
  ]
}
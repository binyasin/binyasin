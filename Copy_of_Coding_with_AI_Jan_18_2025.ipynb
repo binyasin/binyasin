{
  "nbformat": 4,
  "nbformat_minor": 0,
  "metadata": {
    "colab": {
      "provenance": [],
      "include_colab_link": true
    },
    "kernelspec": {
      "name": "python3",
      "display_name": "Python 3"
    },
    "language_info": {
      "name": "python"
    }
  },
  "cells": [
    {
      "cell_type": "markdown",
      "metadata": {
        "id": "view-in-github",
        "colab_type": "text"
      },
      "source": [
        "<a href=\"https://colab.research.google.com/github/binyasin/binyasin/blob/main/Copy_of_Coding_with_AI_Jan_18_2025.ipynb\" target=\"_parent\"><img src=\"https://colab.research.google.com/assets/colab-badge.svg\" alt=\"Open In Colab\"/></a>"
      ]
    },
    {
      "cell_type": "markdown",
      "source": [
        "# Chapter 1: Introduction to Prompt Engineering\n",
        "\n",
        "Welcome to the first lesson on prompt engineering! This lesson will guide you step-by-step, starting with the basics and progressing to advanced concepts. By the end of this lesson, you'll understand what prompt engineering is, why it’s important, and how to create effective prompts.\n",
        "\n",
        "---\n",
        "`\n",
        "## 1. What is Prompt Engineering?\n",
        "\n",
        "**Prompt engineering** is the art of designing clear, specific instructions to interact with language models like ChatGPT. Think of it as talking to a very smart assistant that needs clear instructions to perform tasks accurately.\n",
        "\n",
        "Example:\n",
        "\n",
        "- Bad prompt: \"Tell me something.\"\n",
        "- Good prompt: \"Write a 3-sentence summary of the book 'The Tiger of Mysore.'\"\n",
        "\n",
        "---\n",
        "\n",
        "## 2. Why is Prompt Engineering Important?\n",
        "\n",
        "- **Accuracy**: Well-crafted prompts lead to better results.\n",
        "- **Efficiency**: Saves time by reducing back-and-forth adjustments.\n",
        "- **Creativity**: Enables you to unlock the full potential of the model for various tasks like coding, summarizing, and generating ideas.\n",
        "\n",
        "---\n",
        "\n",
        "## 3. Components of a Good Prompt\n",
        "\n",
        "A good prompt typically includes:\n",
        "\n",
        "- **Clarity**: Clear and easy to understand.\n",
        "- **Specificity**: Focused on the task at hand.\n",
        "- **Context**: Provides necessary background information.\n",
        "\n",
        "Example:\n",
        "\"Write a Python function to calculate the factorial of a number. Include comments to explain each step.\"\n",
        "\n",
        "---\n",
        "\n",
        "## 4. Types of Prompts\n",
        "\n",
        "1. **Informational Prompts**: Ask for facts or explanations.\n",
        "   - Example: \"What is the capital of France?\"\n",
        "\n",
        "2. **Instructional Prompts**: Provide step-by-step guidance.\n",
        "   - Example: \"Explain how to make a cup of tea.\"\n",
        "\n",
        "3. **Creative Prompts**: Encourage imagination.\n",
        "   - Example: \"Write a short story about a time-traveling cat.\"\n",
        "\n",
        "4. **Open-Ended Prompts**: These prompts allow users to respond freely, without any specific constraints or guidelines.\n",
        "   - Example: \"Tell me about your favorite hobby.\"\n",
        "\n",
        "5. **Closed-Ended Prompts**: These prompts require users to respond with a specific answer or selection.\n",
        "   - Example: \"What is your favorite color? (A) Red, (B) Blue, or (C) Green\"\n",
        "\n",
        "6. **Hybrid Prompts**: These prompts combine elements of open-ended and closed-ended prompts.\n",
        "   - Example: \"Describe your favorite hobby and select one of the following categories: (A) Sports, (B) Arts, or (C) Music\"\n",
        "\n",
        "---\n",
        "\n",
        "## 5. Common Mistakes in Prompt Engineering\n",
        "\n",
        "1. **Too vague**: \"Explain photosynthesis.\"\n",
        "\n",
        "   - Better: \"Explain photosynthesis to a 10-year-old in 3 sentences.\"\n",
        "\n",
        "2. **Overly complex**: Avoid stacking too many tasks in one prompt.\n",
        "\n",
        "   - Simplify: Break the prompt into smaller parts if needed.\n",
        "\n",
        "3. **Lack of context**: Always provide background information if required.\n",
        "\n",
        "`Bad prompts (lacking context):`\n",
        "\n",
        "  - \"Review this code\"\n",
        "  - \"Is this a good marketing strategy?\"\n",
        "  - \"Analyze these numbers: 45, 67, 89, 92\"\n",
        "  - \"Help me write an email to Sarah\"\n",
        "\n",
        "`Good prompts (with context):`\n",
        "\n",
        "  - \"Review this Python code for a web scraper that collects weather data. The code needs to be production-ready and handle rate limiting.\"\n",
        "\n",
        "  - \"Is this marketing strategy effective for a B2B SaaS company targeting small business owners in the healthcare sector? Our budget is $10,000/month.\"\n",
        "\n",
        "  - \"Analyze these quarterly sales numbers (in thousands USD) from our East Coast retail stores: 45, 67, 89, 92. We're trying to understand if our new pricing strategy is working.\"\n",
        "\n",
        "  - \"Help me write a professional email to Sarah, my project manager, explaining why our team needs an extra week to complete the client's website redesign due to unexpected technical challenges.\"\n",
        "\n",
        "  Note: Without context, AI models have to make assumptions which often lead to generic or misaligned responses. With proper context, they can provide more tailored, relevant, and useful outputs.\n",
        "---\n",
        "\n",
        "## 6. Beginner Practice: Crafting Simple Prompts\n",
        "\n",
        "**Activity**:\n",
        "Write prompts for the following tasks:\n",
        "\n",
        "1. Describe the weather today in 2 sentences.\n",
        "2. Write a short poem about the ocean.\n",
        "3. List 5 popular programming languages.\n",
        "\n",
        "Review your prompts to ensure they are clear and specific.\n",
        "\n",
        "---\n",
        "\n",
        "## 7. Using Examples in Prompts\n",
        "\n",
        "Adding examples helps guide the model’s response.\n",
        "\n",
        "Example:\n",
        "\"Write a list of fruits. Example: 1. Apple\"\n",
        "\n",
        "Activity:\n",
        "\n",
        "- Write a prompt to generate a list of vegetables with one example included.\n",
        "\n",
        "---\n",
        "\n",
        "## 8. Intermediate Level: Adding Constraints\n",
        "\n",
        "Constraints make the task more focused.\n",
        "\n",
        "Example:\n",
        "\"Write a story about a hero in 100 words.\"\n",
        "\n",
        "Activity:\n",
        "\n",
        "- Write a prompt that asks for a poem about a tree, but limit it to 4 lines.\n",
        "\n",
        "---\n",
        "\n",
        "## 9. Multi-Step Prompts\n",
        "\n",
        "Break down complex tasks into smaller steps.\n",
        "\n",
        "Example:\n",
        "\"First, list 3 benefits of exercise. Then explain each benefit in one sentence.\"\n",
        "\n",
        "Activity:\n",
        "\n",
        "- Design a multi-step prompt for a recipe creation task.\n",
        "\n",
        "---\n",
        "\n",
        "## 10. Debugging Prompts\n",
        "\n",
        "If a prompt doesn’t work as expected, refine it.\n",
        "\n",
        "Example:\n",
        "\n",
        "- Original: \"Explain the theory of relativity.\"\n",
        "- Refined: \"Explain the theory of relativity in simple terms for a 12-year-old.\"\n",
        "\n",
        "Activity:\n",
        "\n",
        "- Identify and fix issues in this prompt: \"Write a summary of the book.\"\n",
        "\n",
        "---\n",
        "\n",
        "## 11. Advanced Techniques: Role-Playing Prompts\n",
        "\n",
        "Make the model take on a specific role.\n",
        "\n",
        "Example:\n",
        "\"You are a teacher. Explain how rain forms to a classroom of 8-year-olds.\"\n",
        "\n",
        "Activity:\n",
        "\n",
        "- Create a role-playing prompt where the model acts as a travel guide.\n",
        "\n",
        "---\n",
        "\n",
        "## 12. Combining Prompts for Complex Tasks\n",
        "\n",
        "You can chain prompts to build detailed outputs.\n",
        "\n",
        "Example:\n",
        "\"List 3 benefits of meditation. Then write a short story where a character discovers these benefits.\"\n",
        "\n",
        "Activity:\n",
        "\n",
        "- Create a combined prompt for writing a product review.\n",
        "\n",
        "---\n",
        "\n",
        "## 13. Handling Hallucinations\n",
        "\n",
        "Sometimes, models give incorrect information (hallucinations). Reduce this by:\n",
        "\n",
        "- Asking for sources: \"Cite your sources when explaining.\"\n",
        "- Providing context: \"Based on reliable studies, explain...\"\n",
        "\n",
        "---\n",
        "\n",
        "## 14. Ethical Considerations\n",
        "\n",
        "Always:\n",
        "\n",
        "- Avoid prompts that encourage harmful or unethical content.\n",
        "- Ensure inclusivity and respect in your prompts.\n",
        "\n",
        "Activity:\n",
        "\n",
        "- Rewrite this prompt to make it ethical: \"Write a joke about any group of people.\"\n",
        "\n",
        "---\n",
        "\n",
        "## 15. Pro-Level: Chain-of-Thought Prompting\n",
        "\n",
        "Encourage the model to explain its reasoning step-by-step.\n",
        "\n",
        "Example:\n",
        "\"Solve this math problem: 25 + 17. Show your work.\"\n",
        "\n",
        "Activity:\n",
        "\n",
        "- Write a chain-of-thought prompt for explaining how to bake a cake.\n",
        "\n",
        "---\n",
        "\n",
        "## 16. Self-Reflection Prompts\n",
        "\n",
        "Ask the model to evaluate its own response.\n",
        "\n",
        "Example:\n",
        "\"Write a summary of the article. Then check if all key points are included.\"\n",
        "\n",
        "Activity:\n",
        "\n",
        "- Create a prompt that involves self-reflection for improving a poem.\n",
        "\n",
        "---\n",
        "\n",
        "## 17. Final Project: Crafting a Master Prompt\n",
        "\n",
        "Combine all your learning to create a complex prompt.\n",
        "\n",
        "Example:\n",
        "\"Act as a historian. Summarize the main causes of World War II in 200 words. Then provide 3 lessons we can learn from it.\"\n",
        "\n",
        "Activity:\n",
        "\n",
        "- Create your own master prompt for any topic of your choice.\n",
        "\n",
        "---\n",
        "\n",
        "## 18. Summary of Lesson\n",
        "\n",
        "In this lesson, you learned:\n",
        "\n",
        "- The basics of prompt engineering.\n",
        "- How to craft clear, specific, and contextual prompts.\n",
        "- Techniques to handle advanced scenarios, like role-playing and chain-of-thought prompting.\n",
        "\n",
        "Congratulations on completing your first step into the world of prompt engineering!\n",
        "\n"
      ],
      "metadata": {
        "id": "Hoo-zITKJyc-"
      }
    },
    {
      "cell_type": "code",
      "source": [
        "# prompt: generate a list of 50 random number from 1 to 100 and print it with a message \"Unsorted List: \"\n",
        "\n",
        "import random\n",
        "\n",
        "# Generate a list of 50 random numbers between 1 and 100\n",
        "random_numbers = [random.randint(1, 100) for _ in range(50)]\n",
        "\n",
        "# Print the unsorted list with a message\n",
        "print(\"Unsorted List: \", random_numbers)"
      ],
      "metadata": {
        "colab": {
          "base_uri": "https://localhost:8080/"
        },
        "id": "rI8YkJ64IeAY",
        "outputId": "d8934a87-4b40-46b4-a48e-49c02c3bb0b2"
      },
      "execution_count": null,
      "outputs": [
        {
          "output_type": "stream",
          "name": "stdout",
          "text": [
            "Unsorted List:  [64, 51, 88, 30, 56, 19, 95, 66, 24, 42, 6, 46, 17, 42, 70, 63, 8, 48, 74, 2, 79, 3, 15, 9, 86, 89, 72, 12, 20, 66, 66, 39, 32, 76, 45, 62, 100, 82, 43, 86, 52, 55, 75, 12, 66, 33, 39, 33, 85, 77]\n"
          ]
        }
      ]
    },
    {
      "cell_type": "code",
      "source": [],
      "metadata": {
        "id": "2W_qCZMwKUd1"
      },
      "execution_count": null,
      "outputs": []
    },
    {
      "cell_type": "code",
      "source": [
        "# prompt: write a bubble sort algorithm to sort the list and print it with a message \"Sorted List\"\n",
        "\n",
        "import random\n",
        "\n",
        "# Bubble sort algorithm\n",
        "def bubble_sort(list_):\n",
        "    n = len(list_)\n",
        "    for i in range(n-1):\n",
        "        for j in range(n-i-1):\n",
        "            if list_[j] > list_[j+1]:\n",
        "                list_[j], list_[j+1] = list_[j+1], list_[j]\n",
        "    return list_\n",
        "\n",
        "# Generate a list of 50 random numbers between 1 and 100\n",
        "random_numbers = [random.randint(1, 100) for _ in range(50)]\n",
        "\n",
        "# Print the unsorted list with a message\n",
        "print(\"Unsorted List: \", random_numbers)\n",
        "\n",
        "# Sort the list using bubble sort\n",
        "sorted_list = bubble_sort(random_numbers)\n",
        "\n",
        "# Print the sorted list with a message\n",
        "print(\"Sorted List: \", sorted_list)"
      ],
      "metadata": {
        "colab": {
          "base_uri": "https://localhost:8080/"
        },
        "id": "bUB2usLHJLTv",
        "outputId": "4dbfbab2-c25f-4966-f82a-f7cd8c14feb2"
      },
      "execution_count": null,
      "outputs": [
        {
          "output_type": "stream",
          "name": "stdout",
          "text": [
            "Unsorted List:  [31, 46, 57, 20, 65, 21, 17, 39, 98, 84, 47, 45, 77, 52, 61, 49, 65, 57, 29, 3, 52, 80, 31, 15, 12, 87, 84, 20, 5, 83, 27, 7, 46, 36, 24, 3, 6, 19, 40, 87, 11, 45, 24, 33, 83, 54, 60, 91, 55, 16]\n",
            "Sorted List:  [3, 3, 5, 6, 7, 11, 12, 15, 16, 17, 19, 20, 20, 21, 24, 24, 27, 29, 31, 31, 33, 36, 39, 40, 45, 45, 46, 46, 47, 49, 52, 52, 54, 55, 57, 57, 60, 61, 65, 65, 77, 80, 83, 83, 84, 84, 87, 87, 91, 98]\n"
          ]
        }
      ]
    },
    {
      "cell_type": "code",
      "source": [
        "# prompt: create a list of 100 values with a range from 3.0 to 16.0 only truncate the floating point to one digit only, name the list 'school' and print it with a message \"School Population: \"\n",
        "\n",
        "import random\n",
        "\n",
        "school = [round(random.uniform(3.0, 16.0), 1) for _ in range(100)]\n",
        "print(\"School Population: \", school)"
      ],
      "metadata": {
        "colab": {
          "base_uri": "https://localhost:8080/"
        },
        "id": "n0fmumSp4kkY",
        "outputId": "a9c872bd-e59a-4faa-fd63-088eabadc1d4"
      },
      "execution_count": null,
      "outputs": [
        {
          "output_type": "stream",
          "name": "stdout",
          "text": [
            "School Population:  [15.8, 13.4, 11.1, 15.7, 14.5, 8.4, 10.1, 8.4, 14.0, 15.5, 6.4, 15.4, 10.7, 3.1, 12.8, 10.2, 13.5, 3.4, 4.6, 15.9, 3.1, 5.9, 12.4, 13.1, 10.3, 7.4, 11.1, 4.5, 15.5, 12.3, 4.1, 16.0, 8.1, 6.9, 12.3, 12.8, 10.4, 6.0, 7.2, 7.5, 11.7, 7.9, 4.2, 6.5, 14.4, 15.6, 12.1, 15.9, 8.2, 9.0, 8.9, 13.8, 13.3, 15.7, 4.9, 4.2, 3.5, 5.9, 16.0, 3.7, 15.0, 12.1, 9.1, 15.5, 15.9, 5.5, 6.6, 14.5, 7.5, 11.6, 3.3, 13.9, 14.6, 11.9, 15.2, 5.2, 8.9, 14.2, 12.8, 9.1, 6.7, 14.0, 10.7, 11.4, 12.7, 10.3, 6.5, 8.9, 13.1, 11.8, 10.6, 15.3, 5.1, 10.9, 12.3, 5.3, 13.5, 3.9, 12.7, 7.4]\n"
          ]
        }
      ]
    },
    {
      "cell_type": "code",
      "source": [
        "# prompt: create a bubble sort function and sort the school list and print it with the message \"Sorted School Population: \"\n",
        "\n",
        "# Sort the school list using bubble sort\n",
        "sorted_school = bubble_sort(school)\n",
        "\n",
        "# Print the sorted school list with a message\n",
        "print(\"Sorted School Population: \", sorted_school)"
      ],
      "metadata": {
        "colab": {
          "base_uri": "https://localhost:8080/"
        },
        "id": "0sCaFmqS5gyf",
        "outputId": "85b192c4-d651-41e0-8d31-eff771636802"
      },
      "execution_count": null,
      "outputs": [
        {
          "output_type": "stream",
          "name": "stdout",
          "text": [
            "Sorted School Population:  [3.1, 3.1, 3.3, 3.4, 3.5, 3.7, 3.9, 4.1, 4.2, 4.2, 4.5, 4.6, 4.9, 5.1, 5.2, 5.3, 5.5, 5.9, 5.9, 6.0, 6.4, 6.5, 6.5, 6.6, 6.7, 6.9, 7.2, 7.4, 7.4, 7.5, 7.5, 7.9, 8.1, 8.2, 8.4, 8.4, 8.9, 8.9, 8.9, 9.0, 9.1, 9.1, 10.1, 10.2, 10.3, 10.3, 10.4, 10.6, 10.7, 10.7, 10.9, 11.1, 11.1, 11.4, 11.6, 11.7, 11.8, 11.9, 12.1, 12.1, 12.3, 12.3, 12.3, 12.4, 12.7, 12.7, 12.8, 12.8, 12.8, 13.1, 13.1, 13.3, 13.4, 13.5, 13.5, 13.8, 13.9, 14.0, 14.0, 14.2, 14.4, 14.5, 14.5, 14.6, 15.0, 15.2, 15.3, 15.4, 15.5, 15.5, 15.5, 15.6, 15.7, 15.7, 15.8, 15.9, 15.9, 15.9, 16.0, 16.0]\n"
          ]
        }
      ]
    },
    {
      "cell_type": "code",
      "source": [
        "# prompt: count the number ranging from 3 to 4.5 in  sorted_school list\n",
        "\n",
        "# Count the number of elements in sorted_school within the range [3, 4.5]\n",
        "count = 0\n",
        "for num in sorted_school:\n",
        "  if 3 <= num <= 4.5:\n",
        "    count += 1\n",
        "\n",
        "print(f\"Number of elements between 3 and 4.5 (inclusive): {count}\")"
      ],
      "metadata": {
        "colab": {
          "base_uri": "https://localhost:8080/"
        },
        "id": "NdPszn4O7Bfl",
        "outputId": "fc759ef3-3f54-4210-f28e-bb80e433459d"
      },
      "execution_count": null,
      "outputs": [
        {
          "output_type": "stream",
          "name": "stdout",
          "text": [
            "Number of elements between 3 and 4.5 (inclusive): 11\n"
          ]
        }
      ]
    },
    {
      "cell_type": "code",
      "source": [
        "# prompt: create a list 'kg_1' of values ranging from 3.0 to 4.5 from the sorted_school list and print it with a message 'Class KG 1: '\n",
        "\n",
        "kg_1 = [num for num in sorted_school if 3.0 <= num <= 4.5]\n",
        "print('Class KG 1: ', kg_1)"
      ],
      "metadata": {
        "colab": {
          "base_uri": "https://localhost:8080/"
        },
        "id": "9axrv1L174Wu",
        "outputId": "83671378-76d1-4dec-c017-584b8f7632eb"
      },
      "execution_count": null,
      "outputs": [
        {
          "output_type": "stream",
          "name": "stdout",
          "text": [
            "Class KG 1:  [3.1, 3.1, 3.2, 3.4, 3.5, 3.7, 3.7, 3.9, 3.9, 4.0, 4.5, 4.5]\n"
          ]
        }
      ]
    },
    {
      "cell_type": "code",
      "source": [
        "# prompt: create a list 'kg_2' of values ranging from 4.6 to 5.5 from the sorted_school list and print it with a message 'Class KG 2: '\n",
        "\n",
        "kg_2 = [num for num in sorted_school if 4.6 <= num <= 5.5]\n",
        "print('Class KG 2: ', kg_2)"
      ],
      "metadata": {
        "colab": {
          "base_uri": "https://localhost:8080/"
        },
        "id": "s-rWioDo8z3D",
        "outputId": "34b7e7c5-e1df-4407-9de8-66560b033451"
      },
      "execution_count": null,
      "outputs": [
        {
          "output_type": "stream",
          "name": "stdout",
          "text": [
            "Class KG 2:  [4.6, 4.9, 5.1, 5.2, 5.3, 5.5]\n"
          ]
        }
      ]
    },
    {
      "cell_type": "code",
      "source": [
        "# prompt: create a list 'class_1' of values ranging from 5.6 to 6.5 from the sorted_school list and print it with a message 'Class 1: '\n",
        "\n",
        "class_1 = [num for num in sorted_school if 5.6 <= num <= 6.5]\n",
        "print('Class 1: ', class_1)"
      ],
      "metadata": {
        "colab": {
          "base_uri": "https://localhost:8080/"
        },
        "id": "OJmYuS9E9HiR",
        "outputId": "c21abcb1-76cc-44aa-a3f6-51746629b495"
      },
      "execution_count": null,
      "outputs": [
        {
          "output_type": "stream",
          "name": "stdout",
          "text": [
            "Class 1:  [5.9, 5.9, 6.0, 6.4, 6.5, 6.5]\n"
          ]
        }
      ]
    },
    {
      "cell_type": "markdown",
      "source": [
        "## The Magic of AI"
      ],
      "metadata": {
        "id": "CLfyAX-h-I-o"
      }
    },
    {
      "cell_type": "code",
      "source": [
        "# prompt: create a list name class_2 to class_10\n",
        "\n",
        "class_2 = [num for num in sorted_school if 6.6 <= num <= 7.5]\n",
        "print('Class 2: ', class_2)\n",
        "\n",
        "class_3 = [num for num in sorted_school if 7.6 <= num <= 8.5]\n",
        "print('Class 3: ', class_3)\n",
        "\n",
        "class_4 = [num for num in sorted_school if 8.6 <= num <= 9.5]\n",
        "print('Class 4: ', class_4)\n",
        "\n",
        "class_5 = [num for num in sorted_school if 9.6 <= num <= 10.5]\n",
        "print('Class 5: ', class_5)\n",
        "\n",
        "class_6 = [num for num in sorted_school if 10.6 <= num <= 11.5]\n",
        "print('Class 6: ', class_6)\n",
        "\n",
        "class_7 = [num for num in sorted_school if 11.6 <= num <= 12.5]\n",
        "print('Class 7: ', class_7)\n",
        "\n",
        "class_8 = [num for num in sorted_school if 12.6 <= num <= 13.5]\n",
        "print('Class 8: ', class_8)\n",
        "\n",
        "class_9 = [num for num in sorted_school if 13.6 <= num <= 14.5]\n",
        "print('Class 9: ', class_9)\n",
        "\n",
        "class_10 = [num for num in sorted_school if 14.6 <= num <= 16.0]\n",
        "print('Class 10: ', class_10)"
      ],
      "metadata": {
        "colab": {
          "base_uri": "https://localhost:8080/"
        },
        "id": "dxz30V-D92ZC",
        "outputId": "acc31f3e-53fa-4cbe-e227-693a75f7ecc7"
      },
      "execution_count": null,
      "outputs": [
        {
          "output_type": "stream",
          "name": "stdout",
          "text": [
            "Class 2:  [6.6, 6.7, 6.9, 7.2, 7.4, 7.4, 7.5, 7.5]\n",
            "Class 3:  [7.9, 8.1, 8.2, 8.4, 8.4]\n",
            "Class 4:  [8.9, 8.9, 8.9, 9.0, 9.1, 9.1]\n",
            "Class 5:  [10.1, 10.2, 10.3, 10.3, 10.4]\n",
            "Class 6:  [10.6, 10.7, 10.7, 10.9, 11.1, 11.1, 11.4]\n",
            "Class 7:  [11.6, 11.7, 11.8, 11.9, 12.1, 12.1, 12.3, 12.3, 12.3, 12.4]\n",
            "Class 8:  [12.7, 12.7, 12.8, 12.8, 12.8, 13.1, 13.1, 13.3, 13.4, 13.5, 13.5]\n",
            "Class 9:  [13.8, 13.9, 14.0, 14.0, 14.2, 14.4, 14.5, 14.5]\n",
            "Class 10:  [14.6, 15.0, 15.2, 15.3, 15.4, 15.5, 15.5, 15.5, 15.6, 15.7, 15.7, 15.8, 15.9, 15.9, 15.9, 16.0, 16.0]\n"
          ]
        }
      ]
    },
    {
      "cell_type": "code",
      "source": [
        "# prompt: create list of 20 items of different random fruits and vegetable name, the list should contain at least 40% vegetable names and print it with a message 'Fruits and Vegetable'\n",
        "\n",
        "import random\n",
        "\n",
        "fruits = [\"Apple\", \"Banana\", \"Orange\", \"Grapes\", \"Mango\", \"Strawberry\", \"Watermelon\", \"Pineapple\", \"Kiwi\", \"Blueberry\"]\n",
        "vegetables = [\"Carrot\", \"Broccoli\", \"Spinach\", \"Tomato\", \"Potato\", \"Onion\", \"Cucumber\", \"Pepper\", \"Lettuce\", \"Cabbage\"]\n",
        "\n",
        "# Calculate the minimum number of vegetables (40% of 20)\n",
        "min_vegetables = int(0.4 * 20)\n",
        "\n",
        "# Create an empty list to store the combined items\n",
        "items = []\n",
        "\n",
        "# Add the minimum number of vegetables\n",
        "items.extend(random.sample(vegetables, min_vegetables))\n",
        "\n",
        "# Calculate the remaining slots\n",
        "remaining_slots = 20 - min_vegetables\n",
        "\n",
        "# Fill the remaining slots with random fruits and vegetables\n",
        "items.extend(random.sample(fruits + vegetables, remaining_slots))\n",
        "\n",
        "# Shuffle the items to mix fruits and vegetables randomly\n",
        "random.shuffle(items)\n",
        "\n",
        "# Print the list with a message\n",
        "print(\"Fruits and Vegetables:\", items)"
      ],
      "metadata": {
        "colab": {
          "base_uri": "https://localhost:8080/"
        },
        "id": "ylOmaDxrA0gf",
        "outputId": "0d7c248f-3b66-452f-b640-4b09ddb99ea8"
      },
      "execution_count": null,
      "outputs": [
        {
          "output_type": "stream",
          "name": "stdout",
          "text": [
            "Fruits and Vegetables: ['Broccoli', 'Tomato', 'Broccoli', 'Carrot', 'Watermelon', 'Grapes', 'Cucumber', 'Onion', 'Apple', 'Blueberry', 'Cucumber', 'Pepper', 'Cabbage', 'Spinach', 'Lettuce', 'Lettuce', 'Orange', 'Potato', 'Cabbage', 'Pepper']\n"
          ]
        }
      ]
    },
    {
      "cell_type": "code",
      "source": [
        "# prompt: create two separate list one for fruit and one for vegetable, take out all the fruits name and populate it in to the fruit list same for vegetable and print it separately\n",
        "\n",
        "import random\n",
        "\n",
        "fruits = []\n",
        "vegetables = []\n",
        "\n",
        "items = [\"Apple\", \"Banana\", \"Orange\", \"Grapes\", \"Mango\", \"Strawberry\", \"Watermelon\", \"Pineapple\", \"Kiwi\", \"Blueberry\", \"Carrot\", \"Broccoli\", \"Spinach\", \"Tomato\", \"Potato\", \"Onion\", \"Cucumber\", \"Pepper\", \"Lettuce\", \"Cabbage\"]\n",
        "\n",
        "for item in items:\n",
        "    if item in [\"Apple\", \"Banana\", \"Orange\", \"Grapes\", \"Mango\", \"Strawberry\", \"Watermelon\", \"Pineapple\", \"Kiwi\", \"Blueberry\"]:\n",
        "        fruits.append(item)\n",
        "    elif item in [\"Carrot\", \"Broccoli\", \"Spinach\", \"Tomato\", \"Potato\", \"Onion\", \"Cucumber\", \"Pepper\", \"Lettuce\", \"Cabbage\"]:\n",
        "        vegetables.append(item)\n",
        "\n",
        "print(\"Fruits:\", fruits)\n",
        "print(\"Vegetables:\", vegetables)"
      ],
      "metadata": {
        "colab": {
          "base_uri": "https://localhost:8080/"
        },
        "id": "eTVTqf6U_Zqw",
        "outputId": "eba01b67-c657-4cf8-b59c-ed67f65dbbb9"
      },
      "execution_count": null,
      "outputs": [
        {
          "output_type": "stream",
          "name": "stdout",
          "text": [
            "Fruits: ['Apple', 'Banana', 'Orange', 'Grapes', 'Mango', 'Strawberry', 'Watermelon', 'Pineapple', 'Kiwi', 'Blueberry']\n",
            "Vegetables: ['Carrot', 'Broccoli', 'Spinach', 'Tomato', 'Potato', 'Onion', 'Cucumber', 'Pepper', 'Lettuce', 'Cabbage']\n"
          ]
        }
      ]
    },
    {
      "cell_type": "code",
      "source": [
        "# prompt: mujhay hello world likh k do or hello world ko aik variable may save karoo\n",
        "\n",
        "hello_world = \"hello world\"\n",
        "hello_world"
      ],
      "metadata": {
        "colab": {
          "base_uri": "https://localhost:8080/",
          "height": 35
        },
        "id": "OxDsrR7rhV5Z",
        "outputId": "2c02f3f3-3ec3-4f97-9788-add14f5db039"
      },
      "execution_count": null,
      "outputs": [
        {
          "output_type": "execute_result",
          "data": {
            "text/plain": [
              "'hello world'"
            ],
            "application/vnd.google.colaboratory.intrinsic+json": {
              "type": "string"
            }
          },
          "metadata": {},
          "execution_count": 2
        }
      ]
    }
  ]
}
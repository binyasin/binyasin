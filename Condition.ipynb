{
  "nbformat": 4,
  "nbformat_minor": 0,
  "metadata": {
    "colab": {
      "provenance": [],
      "authorship_tag": "ABX9TyOQWESptY8VAmum2yy4PRrY",
      "include_colab_link": true
    },
    "kernelspec": {
      "name": "python3",
      "display_name": "Python 3"
    },
    "language_info": {
      "name": "python"
    }
  },
  "cells": [
    {
      "cell_type": "markdown",
      "metadata": {
        "id": "view-in-github",
        "colab_type": "text"
      },
      "source": [
        "<a href=\"https://colab.research.google.com/github/binyasin/binyasin/blob/main/Condition.ipynb\" target=\"_parent\"><img src=\"https://colab.research.google.com/assets/colab-badge.svg\" alt=\"Open In Colab\"/></a>"
      ]
    },
    {
      "cell_type": "code",
      "execution_count": 7,
      "metadata": {
        "colab": {
          "base_uri": "https://localhost:8080/"
        },
        "id": "qiEoZK1Qi6v6",
        "outputId": "3847d6cf-b0e9-4594-ea66-25c65aa1a756"
      },
      "outputs": [
        {
          "output_type": "stream",
          "name": "stdout",
          "text": [
            "Enter your marks: -1\n",
            "Invalid marks\n"
          ]
        }
      ],
      "source": [
        "vmarks = int(input(\"Enter your marks: \"))\n",
        "if vmarks >= 90:\n",
        "    print(\"Your grade is A\")\n",
        "elif vmarks >= 80:\n",
        "    print(\"Your grade is B\")\n",
        "elif vmarks >= 70:\n",
        "    print(\"Your grade is C\")\n",
        "\n",
        "elif vmarks >= 60:\n",
        "    print(\"Your grade is F\")\n",
        "elif vmarks < 0 or vmarks > 100:\n",
        "    print(\"Invalid marks\")"
      ]
    },
    {
      "cell_type": "code",
      "source": [
        "Answer = input(\"What is the compital of Pakistan: \")\n",
        "if Answer.lower() != \"islamabad\":\n",
        "    print(\"your Answer is InCorrect\")\n",
        "else:\n",
        "    print(\"Your Answer is correct\")\n"
      ],
      "metadata": {
        "colab": {
          "base_uri": "https://localhost:8080/"
        },
        "id": "zwK7APKGl_Ve",
        "outputId": "f6b31149-d822-4d7d-d67e-71537d1097be"
      },
      "execution_count": 17,
      "outputs": [
        {
          "output_type": "stream",
          "name": "stdout",
          "text": [
            "What is the compital of Pakistan: ISLAMABAD\n",
            "Your Answer is correct\n"
          ]
        }
      ]
    }
  ]
}
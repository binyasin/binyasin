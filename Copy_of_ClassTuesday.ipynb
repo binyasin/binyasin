{
  "nbformat": 4,
  "nbformat_minor": 0,
  "metadata": {
    "colab": {
      "provenance": [],
      "authorship_tag": "ABX9TyMFhEAjmHOIlvS9bcey2HJ1",
      "include_colab_link": true
    },
    "kernelspec": {
      "name": "python3",
      "display_name": "Python 3"
    },
    "language_info": {
      "name": "python"
    }
  },
  "cells": [
    {
      "cell_type": "markdown",
      "metadata": {
        "id": "view-in-github",
        "colab_type": "text"
      },
      "source": [
        "<a href=\"https://colab.research.google.com/github/binyasin/binyasin/blob/main/Copy_of_ClassTuesday.ipynb\" target=\"_parent\"><img src=\"https://colab.research.google.com/assets/colab-badge.svg\" alt=\"Open In Colab\"/></a>"
      ]
    },
    {
      "cell_type": "code",
      "execution_count": null,
      "metadata": {
        "colab": {
          "base_uri": "https://localhost:8080/"
        },
        "id": "mgodCUlshD2F",
        "outputId": "6d8e4b3d-4026-4c18-8a7c-96d118e33bd3"
      },
      "outputs": [
        {
          "output_type": "stream",
          "name": "stdout",
          "text": [
            "101\n",
            "Total Rabri : 25Kg\n"
          ]
        }
      ],
      "source": [
        "faculty = 12\n",
        "admin = 4\n",
        "Student = 100\n",
        "Tot = faculty+admin+Student\n",
        "Absent = 15\n",
        "Net =Tot- Absent\n",
        "print(Net)\n",
        "Rabri_per_Person = 250\n",
        "print(f\"Total Rabri : {Rabri_per_Person*Net//1000}Kg\")\n"
      ]
    },
    {
      "cell_type": "markdown",
      "source": [
        "# Siraj Uddin                   \n",
        "House No. R-99 Universal <br> Royl City BinQasim Karachi<br>Phone  No.03443941457\n",
        "***\n",
        "## Qualifications\n",
        "+ Master Bussiness Administion(HRM)\n",
        " - Wafaqi Urdu Universtiy Karachi.\n",
        "+ Bechelor of Science\n",
        " - Karachi Universtiy\n",
        "+ F.Sc (Pre Engineering)\n",
        " - Peshawar Board of Intermediate and Secondary Eduction.\n",
        "+ Matric Science\n",
        " - Peshawar Board of Intermediate and Secondary Eduction.\n",
        " ---\n",
        " ### Experience.\n",
        "  + 10 Years Working Experience\n",
        "\n",
        "[x] Male <br> [ ] Female\n",
        "\n"
      ],
      "metadata": {
        "id": "0y_Ld0AeItyi"
      }
    }
  ]
}
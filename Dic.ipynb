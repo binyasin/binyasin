{
  "nbformat": 4,
  "nbformat_minor": 0,
  "metadata": {
    "colab": {
      "provenance": [],
      "authorship_tag": "ABX9TyOO9ybAng49PuuduBSrn7ru",
      "include_colab_link": true
    },
    "kernelspec": {
      "name": "python3",
      "display_name": "Python 3"
    },
    "language_info": {
      "name": "python"
    }
  },
  "cells": [
    {
      "cell_type": "markdown",
      "metadata": {
        "id": "view-in-github",
        "colab_type": "text"
      },
      "source": [
        "<a href=\"https://colab.research.google.com/github/binyasin/binyasin/blob/main/Dic.ipynb\" target=\"_parent\"><img src=\"https://colab.research.google.com/assets/colab-badge.svg\" alt=\"Open In Colab\"/></a>"
      ]
    },
    {
      "cell_type": "code",
      "source": [],
      "metadata": {
        "id": "s16JFCmNM1rB"
      },
      "execution_count": null,
      "outputs": []
    },
    {
      "cell_type": "code",
      "execution_count": null,
      "metadata": {
        "id": "rFgBGlnaJ2sQ"
      },
      "outputs": [],
      "source": [
        "list_of_words=[]\n",
        "dic ={\"Good\": \"Acha\",\"Bed\": \"Bura\", \"Beautiful\":\"Khubsurat\"}\n",
        "word = input(\"Enter the word: \")\n",
        "if word in dic:\n",
        "  list_of_words.append(dic[word])\n",
        "  print(list_of_words)\n",
        "else:\n",
        "  print(\"Enter your right word\")\n",
        "\n"
      ]
    }
  ]
}
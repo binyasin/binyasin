{
  "nbformat": 4,
  "nbformat_minor": 0,
  "metadata": {
    "colab": {
      "provenance": [],
      "authorship_tag": "ABX9TyM6ZtggaqdY8yKkU/7T5v/s",
      "include_colab_link": true
    },
    "kernelspec": {
      "name": "python3",
      "display_name": "Python 3"
    },
    "language_info": {
      "name": "python"
    }
  },
  "cells": [
    {
      "cell_type": "markdown",
      "metadata": {
        "id": "view-in-github",
        "colab_type": "text"
      },
      "source": [
        "<a href=\"https://colab.research.google.com/github/binyasin/binyasin/blob/main/Project0.ipynb\" target=\"_parent\"><img src=\"https://colab.research.google.com/assets/colab-badge.svg\" alt=\"Open In Colab\"/></a>"
      ]
    },
    {
      "cell_type": "code",
      "execution_count": null,
      "metadata": {
        "colab": {
          "base_uri": "https://localhost:8080/"
        },
        "id": "h6I5MKOal-fA",
        "outputId": "c1b02a0e-ed39-4534-86d3-e4d8cc775773"
      },
      "outputs": [
        {
          "output_type": "stream",
          "name": "stdout",
          "text": [
            "Enter first number: 6\n",
            "Enter second number: 5\n",
            "Your name are added 11\n"
          ]
        }
      ],
      "source": [
        "num1=int(input(\"Enter first number: \"))\n",
        "num2=int(input(\"Enter second number: \"))\n",
        "\n",
        "print(\"Your name are added\",num1+num2)"
      ]
    },
    {
      "cell_type": "code",
      "source": [
        "var= input(\"What is your favourite animal: \")\n",
        "if var.lower() ==\"cow\":\n",
        "    print(\"Ofcourse my favourite animal is\",var)\n",
        "else:\n",
        "    print(\"Sorry you are wrong \")\n"
      ],
      "metadata": {
        "colab": {
          "base_uri": "https://localhost:8080/"
        },
        "id": "QJFMaxVhm-oe",
        "outputId": "805aaeb6-d40d-4500-8eda-cd61092dc1ba"
      },
      "execution_count": null,
      "outputs": [
        {
          "output_type": "stream",
          "name": "stdout",
          "text": [
            "What is your favourite animal: Goat\n",
            "Sorry you are wrong \n"
          ]
        }
      ]
    },
    {
      "cell_type": "code",
      "source": [
        "temp= int(input(\"Enter the temperature: \"))\n",
        "temp= (temp*9/5)+32\n",
        "print(f\"The temperature in Fahrenheit is {temp}f\")\n"
      ],
      "metadata": {
        "colab": {
          "base_uri": "https://localhost:8080/"
        },
        "id": "fo2UXfPRsx8l",
        "outputId": "3e1e223f-1aff-4bec-b6f8-200c5db0252f"
      },
      "execution_count": null,
      "outputs": [
        {
          "output_type": "stream",
          "name": "stdout",
          "text": [
            "Enter the temperature: 37\n",
            "The temperature in Fahrenheit is 98.6f\n"
          ]
        }
      ]
    },
    {
      "cell_type": "code",
      "source": [
        "\n",
        "anton = 21\n",
        "beth  = 6 + anton\n",
        "chen  = 20 + beth\n",
        "drew = chen + anton\n",
        "ethan = chen\n",
        "\n",
        "print(f\"Anton is {anton} years old\")\n",
        "print(f\"Beth is {beth} years old\")\n",
        "print(f\"Chen is {chen} years old\")\n",
        "print(f\"Drew is {drew} years old\")\n",
        "print(f\"Ethan is {chen} years old\")\n",
        "\n",
        "\n"
      ],
      "metadata": {
        "colab": {
          "base_uri": "https://localhost:8080/"
        },
        "id": "mcqz2N4bzoIr",
        "outputId": "afbe3849-932d-421a-f1af-7f6ae790d996"
      },
      "execution_count": null,
      "outputs": [
        {
          "output_type": "stream",
          "name": "stdout",
          "text": [
            "Anton is 21 years old\n",
            "Beth is 27 years old\n",
            "Chen is 47 years old\n",
            "Drew is 68 years old\n",
            "Ethan is 47 years old\n"
          ]
        }
      ]
    }
  ]
}
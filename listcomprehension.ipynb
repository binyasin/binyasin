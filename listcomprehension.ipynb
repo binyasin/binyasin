{
  "nbformat": 4,
  "nbformat_minor": 0,
  "metadata": {
    "colab": {
      "provenance": [],
      "authorship_tag": "ABX9TyOVmUl7BTygXZL7+64/vTDI",
      "include_colab_link": true
    },
    "kernelspec": {
      "name": "python3",
      "display_name": "Python 3"
    },
    "language_info": {
      "name": "python"
    }
  },
  "cells": [
    {
      "cell_type": "markdown",
      "metadata": {
        "id": "view-in-github",
        "colab_type": "text"
      },
      "source": [
        "<a href=\"https://colab.research.google.com/github/binyasin/binyasin/blob/main/listcomprehension.ipynb\" target=\"_parent\"><img src=\"https://colab.research.google.com/assets/colab-badge.svg\" alt=\"Open In Colab\"/></a>"
      ]
    },
    {
      "cell_type": "markdown",
      "source": [],
      "metadata": {
        "id": "Wy6tAV6G0VtB"
      }
    },
    {
      "cell_type": "code",
      "execution_count": 26,
      "metadata": {
        "colab": {
          "base_uri": "https://localhost:8080/"
        },
        "id": "1jvsjtawxrp0",
        "outputId": "7a31656d-c247-4aed-dd61-4eff0f0e66df"
      },
      "outputs": [
        {
          "output_type": "stream",
          "name": "stdout",
          "text": [
            "[4, 16, 36]\n"
          ]
        }
      ],
      "source": [
        "num =[2,4,5,6,7]\n",
        "#Sq=[]\n",
        "#for num in num:\n",
        "#  if num%2==0:\n",
        " #   Sq.append(num*num)\n",
        "#print(Sq)\n",
        "\n",
        "print([num*num for num in num if num%2==0])"
      ]
    },
    {
      "cell_type": "code",
      "source": [
        "num =[2,4,5,6,7]\n",
        "#Sq=[]\n",
        "#for num in num:\n",
        "#  if num%2==0:\n",
        " #   Sq.append(num*num)\n",
        "#print(Sq)\n",
        "\n",
        "print([num*num for num in num if num%2==0 if num%3==0])"
      ],
      "metadata": {
        "colab": {
          "base_uri": "https://localhost:8080/"
        },
        "id": "Zg2HGmRl1KPF",
        "outputId": "a48777c3-ebfb-4125-a37e-faa7530df582"
      },
      "execution_count": 29,
      "outputs": [
        {
          "output_type": "stream",
          "name": "stdout",
          "text": [
            "[36]\n"
          ]
        }
      ]
    },
    {
      "cell_type": "code",
      "execution_count": null,
      "metadata": {
        "colab": {
          "base_uri": "https://localhost:8080/"
        },
        "outputId": "b82a72bc-2771-4514-9fcc-53eb57ed5e74",
        "id": "R1eueqjn1Kjd"
      },
      "outputs": [
        {
          "output_type": "stream",
          "name": "stdout",
          "text": [
            "[4, 16, 25, 36, 49]\n"
          ]
        }
      ],
      "source": [
        "num =[2,4,5,6,7]\n",
        "#Sq=[]\n",
        "#for num in num:\n",
        " #   Sq.append(num*num)\n",
        "#print(Sq)\n",
        "\n",
        "print([num*num for num in num])"
      ]
    },
    {
      "cell_type": "code",
      "source": [
        "num =[2,4,5,6,7]\n",
        "#Sq=[]\n",
        "#for num in num:\n",
        " #   Sq.append(num*num)\n",
        "#print(Sq)\n",
        "\n",
        "print([num*num if num%2==0 else num*num*num  for num in num])"
      ],
      "metadata": {
        "colab": {
          "base_uri": "https://localhost:8080/"
        },
        "id": "toMKT6Gt3o2H",
        "outputId": "b0f22de5-aa0b-43d2-9bd4-0b55519381c0"
      },
      "execution_count": 31,
      "outputs": [
        {
          "output_type": "stream",
          "name": "stdout",
          "text": [
            "[4, 16, 125, 36, 343]\n"
          ]
        }
      ]
    },
    {
      "cell_type": "code",
      "source": [
        "list=[]\n",
        "for i in range(3,7):\n",
        "    for j in range(5,7):\n",
        "      list.append(i*j)\n",
        "print(list)\n",
        "\n",
        "# list comprehension\n",
        "\n",
        "[i*j for i in range(3,7) for j in range(5,7)]\n"
      ],
      "metadata": {
        "colab": {
          "base_uri": "https://localhost:8080/"
        },
        "id": "Rjz-KslH4xCC",
        "outputId": "c3c016e1-3722-4f63-f589-66ba731fc27b"
      },
      "execution_count": 43,
      "outputs": [
        {
          "output_type": "stream",
          "name": "stdout",
          "text": [
            "[15, 18, 20, 24, 25, 30, 30, 36]\n"
          ]
        },
        {
          "output_type": "execute_result",
          "data": {
            "text/plain": [
              "[15, 18, 20, 24, 25, 30, 30, 36]"
            ]
          },
          "metadata": {},
          "execution_count": 43
        }
      ]
    }
  ]
}
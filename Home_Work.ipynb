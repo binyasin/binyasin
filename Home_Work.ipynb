{
  "nbformat": 4,
  "nbformat_minor": 0,
  "metadata": {
    "colab": {
      "provenance": [],
      "authorship_tag": "ABX9TyO01nOFXA0fy23utnNYy3r9",
      "include_colab_link": true
    },
    "kernelspec": {
      "name": "python3",
      "display_name": "Python 3"
    },
    "language_info": {
      "name": "python"
    }
  },
  "cells": [
    {
      "cell_type": "markdown",
      "metadata": {
        "id": "view-in-github",
        "colab_type": "text"
      },
      "source": [
        "<a href=\"https://colab.research.google.com/github/binyasin/binyasin/blob/main/Home_Work.ipynb\" target=\"_parent\"><img src=\"https://colab.research.google.com/assets/colab-badge.svg\" alt=\"Open In Colab\"/></a>"
      ]
    },
    {
      "cell_type": "code",
      "execution_count": 1,
      "metadata": {
        "colab": {
          "base_uri": "https://localhost:8080/"
        },
        "id": "TFsX5byZHzIm",
        "outputId": "c283bab8-a924-4f1d-c4d5-604490ebf759"
      },
      "outputs": [
        {
          "output_type": "stream",
          "name": "stdout",
          "text": [
            "Enter the first number: 45\n",
            "Enter the second number: 861\n",
            "The total sum is: 906\n"
          ]
        }
      ],
      "source": [
        "#Write a Python program that takes two integer inputs from the user and calculates their sum. The program should perform the following tasks:\n",
        "\n",
        "#Prompt the user to enter the first number.\n",
        "num1 = int(input(\"Enter the first number: \"))\n",
        "#Read the input and convert it to an integer.\n",
        "num2 = int(input (\"Enter the second number: \"))\n",
        "#Prompt the user to enter the second number.\n",
        "sum = num1 + num2\n",
        "#Calcuate the sum of two numbers.\n",
        "print(\"The total sum is:\", sum)\n",
        "#Print the sum of number as the total result\n",
        "#The provided solution demonstrates a working implementation of this problem, where the main() function guides the user through the process of entering two numbers and displays their sum.\n",
        "\n"
      ]
    },
    {
      "cell_type": "code",
      "source": [
        "#AGREEMNT BOT\n",
        "animal= input(\"What is your favourit Animal: \")\n",
        "if animal.lower() == \"cow\":\n",
        "  print(f\"My favourit Animal is {animal}\")\n",
        "else:\n",
        "  print (\"Please write the correct animal \")"
      ],
      "metadata": {
        "colab": {
          "base_uri": "https://localhost:8080/"
        },
        "id": "8LxyvudnLcbi",
        "outputId": "cb5f5204-a5cf-4991-a9af-b8f7e615fba5"
      },
      "execution_count": 4,
      "outputs": [
        {
          "output_type": "stream",
          "name": "stdout",
          "text": [
            "What is your favourit Animal: ELEPHANT\n",
            "Please write the correct animal \n"
          ]
        }
      ]
    },
    {
      "cell_type": "code",
      "source": [
        "temp= int(input(\"Enter the temperature: \"))\n",
        "temp= (temp*9/5)+32\n",
        "print(f\"The temperature in Fahrenheit is {temp}f\")\n"
      ],
      "metadata": {
        "colab": {
          "base_uri": "https://localhost:8080/"
        },
        "id": "qZqasEKONv2t",
        "outputId": "941e7f72-5f14-4e9a-e856-2587beb2bbf9"
      },
      "execution_count": 6,
      "outputs": [
        {
          "output_type": "stream",
          "name": "stdout",
          "text": [
            "Enter the temperature: 37\n",
            "The temperature in Fahrenheit is 98.6f\n"
          ]
        }
      ]
    },
    {
      "cell_type": "code",
      "source": [
        "anton = 21\n",
        "beth  = 6 + anton\n",
        "chen  = 20 + beth\n",
        "drew = chen + anton\n",
        "ethan = chen\n",
        "\n",
        "print(f\"Anton is {anton} years old\")\n",
        "print(f\"Beth is {beth} years old\")\n",
        "print(f\"Chen is {chen} years old\")\n",
        "print(f\"Drew is {drew} years old\")\n",
        "print(f\"Ethan is {chen} years old\")\n",
        "\n",
        "\n"
      ],
      "metadata": {
        "colab": {
          "base_uri": "https://localhost:8080/"
        },
        "id": "kIEpGX-7OFJL",
        "outputId": "11049dfc-0506-42e3-e0a3-ad2f5498f5c2"
      },
      "execution_count": 7,
      "outputs": [
        {
          "output_type": "stream",
          "name": "stdout",
          "text": [
            "Anton is 21 years old\n",
            "Beth is 27 years old\n",
            "Chen is 47 years old\n",
            "Drew is 68 years old\n",
            "Ethan is 47 years old\n"
          ]
        }
      ]
    },
    {
      "cell_type": "code",
      "source": [
        "# Triangle parimters\n",
        "side1 = float(input(\"Enter the length of the first side 1: \"))\n",
        "side2 = float(input(\"Enter the length of the second side 2: \"))\n",
        "side3 = float(input(\"Enter the length of the third side: 3\"))\n",
        "perimeter = side1 + side2 + side3\n",
        "print(f\"The perimeter of the triangle is {perimeter}\")\n",
        "\n"
      ],
      "metadata": {
        "colab": {
          "base_uri": "https://localhost:8080/"
        },
        "id": "-zejnUX2OWEd",
        "outputId": "ea1924ff-995f-475c-abac-0095f13b23b4"
      },
      "execution_count": 8,
      "outputs": [
        {
          "output_type": "stream",
          "name": "stdout",
          "text": [
            "Enter the length of the first side 1: 3\n",
            "Enter the length of the second side 2: 4\n",
            "Enter the length of the third side: 35\n",
            "The perimeter of the triangle is 12.0\n"
          ]
        }
      ]
    },
    {
      "cell_type": "code",
      "source": [
        "sqr = float(input(\"Type a number to see its Square: \"))\n",
        "square = sqr * sqr\n",
        "print(f\"The square of {sqr} is {square}\")"
      ],
      "metadata": {
        "colab": {
          "base_uri": "https://localhost:8080/"
        },
        "id": "m-HLgbAePLsW",
        "outputId": "8c58cf68-e3a8-4002-a0e0-c5b7eee92a24"
      },
      "execution_count": 9,
      "outputs": [
        {
          "output_type": "stream",
          "name": "stdout",
          "text": [
            "Type a number to see its Square: 4\n",
            "The square of 4.0 is 16.0\n"
          ]
        }
      ]
    }
  ]
}
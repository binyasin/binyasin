{
  "nbformat": 4,
  "nbformat_minor": 0,
  "metadata": {
    "colab": {
      "provenance": [],
      "include_colab_link": true
    },
    "kernelspec": {
      "name": "python3",
      "display_name": "Python 3"
    },
    "language_info": {
      "name": "python"
    }
  },
  "cells": [
    {
      "cell_type": "markdown",
      "metadata": {
        "id": "view-in-github",
        "colab_type": "text"
      },
      "source": [
        "<a href=\"https://colab.research.google.com/github/binyasin/binyasin/blob/main/Copy_of_Understanding_Functions_in_Python.ipynb\" target=\"_parent\"><img src=\"https://colab.research.google.com/assets/colab-badge.svg\" alt=\"Open In Colab\"/></a>"
      ]
    },
    {
      "cell_type": "markdown",
      "source": [
        "###**Understanding Functions in Python**\n",
        "\n",
        "\n",
        "A Python function is a block of organized, reusable code that is used to perform a single, related action. Functions provide better modularity for your application and a high degree of code reusing.\n",
        "\n",
        "\n",
        "\n"
      ],
      "metadata": {
        "id": "dZtBN0udbIrF"
      }
    },
    {
      "cell_type": "code",
      "execution_count": null,
      "metadata": {
        "colab": {
          "base_uri": "https://localhost:8080/"
        },
        "id": "hlUxAx16ab7G",
        "outputId": "02f6006c-0288-4b68-9816-dadf6f9fce19"
      },
      "outputs": [
        {
          "output_type": "stream",
          "name": "stdout",
          "text": [
            "Hello! World\n"
          ]
        }
      ],
      "source": [
        "def my_function():\n",
        "  print(\"Hello! World\")\n",
        "\n",
        "my_function()"
      ]
    },
    {
      "cell_type": "markdown",
      "source": [
        "**Types of Python Functions**\n",
        "\n",
        "Python provides the following types of functions −\n",
        "\n",
        "\n",
        "1)\t**Built-in functions**\n",
        "\n",
        "Python's standard library includes number of built-in functions. Some of Python's built-in functions are print(), int(), len(), sum(), etc. These functions are always available, as they are loaded into computer's memory as soon as you start Python interpreter.\n",
        "\n",
        "2)  **Functions defined in built-in modules**\n",
        "\n",
        "The standard library also bundles a number of modules. Each module defines a group of functions. These functions are not readily available. You need to import them into the memory from their respective modules.\n",
        "\n",
        "3)  **User-defined functions**\n",
        "\n",
        "In addition to the built-in functions and functions in the built-in modules, you can also create your own functions. These functions are called user-defined functions."
      ],
      "metadata": {
        "id": "6XpNHwiqbhYa"
      }
    },
    {
      "cell_type": "code",
      "source": [
        "# Built-in functions\n",
        "print(\"Hello! World\")"
      ],
      "metadata": {
        "colab": {
          "base_uri": "https://localhost:8080/"
        },
        "id": "B-WDQ0gocbHB",
        "outputId": "f277032d-5311-4bc6-93e2-0ac066608a71"
      },
      "execution_count": null,
      "outputs": [
        {
          "output_type": "stream",
          "name": "stdout",
          "text": [
            "Hello! World\n"
          ]
        }
      ]
    },
    {
      "cell_type": "code",
      "source": [
        "# Functions defined in built-in modules\n",
        "import random\n",
        "print(random.random())"
      ],
      "metadata": {
        "colab": {
          "base_uri": "https://localhost:8080/"
        },
        "id": "Vf7GHqjJcQEa",
        "outputId": "4749c08e-22f0-47d5-d167-8ca3fcd0fe24"
      },
      "execution_count": null,
      "outputs": [
        {
          "output_type": "stream",
          "name": "stdout",
          "text": [
            "0.8194296546403051\n"
          ]
        }
      ]
    },
    {
      "cell_type": "code",
      "source": [
        "def my_function():\n",
        "  print(\"Hello! PIAIC Class\")\n",
        "\n",
        "my_function()"
      ],
      "metadata": {
        "colab": {
          "base_uri": "https://localhost:8080/"
        },
        "id": "7BmRgMeJcsmq",
        "outputId": "46d2d13f-e9b1-4411-ede6-e3acef028952"
      },
      "execution_count": null,
      "outputs": [
        {
          "output_type": "stream",
          "name": "stdout",
          "text": [
            "Hello! PIAIC Class\n"
          ]
        }
      ]
    },
    {
      "cell_type": "markdown",
      "source": [
        "**Syntax to Define a Python Function**\n",
        "\n",
        "```python\n",
        "def function_name( parameters ):\n",
        "   \"function_docstring\"\n",
        "   function_suite\n",
        "   return [expression]\n",
        "   ```"
      ],
      "metadata": {
        "id": "fBrrIH9YdIg6"
      }
    },
    {
      "cell_type": "code",
      "source": [
        "def greetings():\n",
        "   \"This is docstring of greetings function\"\n",
        "   greet = 'Hello World!'\n",
        "   return greet\n",
        "\n",
        "message = greetings()\n",
        "print(message)"
      ],
      "metadata": {
        "colab": {
          "base_uri": "https://localhost:8080/"
        },
        "id": "fg4ANVsFdiOV",
        "outputId": "cf1bccc7-b065-46c8-aee1-b4ca032cd4a0"
      },
      "execution_count": null,
      "outputs": [
        {
          "output_type": "stream",
          "name": "stdout",
          "text": [
            "Hello World!\n"
          ]
        }
      ]
    },
    {
      "cell_type": "markdown",
      "source": [
        "**Pass by Reference vs Value**\n",
        "\n",
        "Python uses pass by object reference. Immutable objects (e.g. integers) are unchanged, while mutable objects (e.g. lists) are modified. Examples:\n",
        "* Integers: `x = 5` remains `5` after modification.\n",
        "* Lists: `x = [1, 2, 3]` becomes `[1, 2, 3, 4]` after appending `4`.\n",
        "\n",
        "In this example, `x` remains unchanged after the `modify_value` function, because it's an immutable integer. However, `lst` is modified after the `modify_list` function, because it's a mutable list."
      ],
      "metadata": {
        "id": "HLtvo5oXeecg"
      }
    },
    {
      "cell_type": "code",
      "source": [
        "def modify_value(x):\n",
        "    x = 10\n",
        "    print(\"Within function:\", x)\n",
        "\n",
        "# Immutable object (integer)\n",
        "x = 5\n",
        "print(\"Original:\", x)\n",
        "modify_value(x)\n",
        "print(\"After function:\", x)"
      ],
      "metadata": {
        "colab": {
          "base_uri": "https://localhost:8080/"
        },
        "id": "rLrf-T4Wga1e",
        "outputId": "616d715b-7e7c-48ee-8eaa-20f70121dc50"
      },
      "execution_count": null,
      "outputs": [
        {
          "output_type": "stream",
          "name": "stdout",
          "text": [
            "Original: 5\n",
            "Within function: 10\n",
            "After function: 5\n"
          ]
        }
      ]
    },
    {
      "cell_type": "code",
      "source": [
        "def modify_list(lst):\n",
        "    lst.append(4)\n",
        "    print(\"Within function: \", lst, \" - ID:\", id(lst))\n",
        "\n",
        "# Mutable object (list)\n",
        "lst = [1, 2, 3]\n",
        "print(\"Original:\", lst, \" - ID:\", id(lst))\n",
        "modify_list(lst)\n",
        "print(\"After function:\", lst, \" - ID:\", id(lst))"
      ],
      "metadata": {
        "colab": {
          "base_uri": "https://localhost:8080/"
        },
        "id": "Vrk3j1a7gr4c",
        "outputId": "c84ef728-6a3b-434c-efaa-d22b4a590edb"
      },
      "execution_count": null,
      "outputs": [
        {
          "output_type": "stream",
          "name": "stdout",
          "text": [
            "Original: [1, 2, 3]  - ID: 136570433898880\n",
            "Within function:  [1, 2, 3, 4]  - ID: 136570433898880\n",
            "After function: [1, 2, 3, 4]  - ID: 136570433898880\n"
          ]
        }
      ]
    },
    {
      "cell_type": "markdown",
      "source": [
        "**Function Arguments**\n",
        "\n",
        "Function arguments are the values or variables passed into a function when it is called."
      ],
      "metadata": {
        "id": "y1Wp-3jChz2c"
      }
    },
    {
      "cell_type": "code",
      "source": [
        "def greetings(name):\n",
        "   \"This is docstring of greetings function\"\n",
        "   print (\"Hello {}\".format(name))\n",
        "   return\n",
        "\n",
        "greetings(\"Ali\")\n",
        "greetings(\"Omar\")\n",
        "greetings(\"Usman\")"
      ],
      "metadata": {
        "colab": {
          "base_uri": "https://localhost:8080/"
        },
        "id": "0OmahMZViAxL",
        "outputId": "e367b542-c150-4225-f8a9-7ed0c929bd42"
      },
      "execution_count": null,
      "outputs": [
        {
          "output_type": "stream",
          "name": "stdout",
          "text": [
            "Hello Ali\n",
            "Hello Omar\n",
            "Hello Usman\n"
          ]
        }
      ]
    },
    {
      "cell_type": "markdown",
      "source": [
        "**Keyword Arguments**\n",
        "\n",
        "Keyword arguments are related to the function calls. When you use keyword arguments in a function call, the caller identifies the arguments by the parameter name. This allows you to skip arguments or place them out of order because the Python interpreter is able to use the keywords provided to match the values with parameters."
      ],
      "metadata": {
        "id": "psU1S0rOi0Tj"
      }
    },
    {
      "cell_type": "code",
      "source": [
        "def printinfo( name, age ):\n",
        "   \"This prints a passed info into this function\"\n",
        "   print (\"Name: \", name)\n",
        "   print (\"Age \", age)\n",
        "   return;\n",
        "\n",
        "# Now you can call printinfo function\n",
        "printinfo( age=50, name=\"miki\" )\n",
        "#printinfo(50, \"Arif\" )"
      ],
      "metadata": {
        "colab": {
          "base_uri": "https://localhost:8080/"
        },
        "id": "7Lq7Bzwbi4dL",
        "outputId": "d9642504-b7e3-42c8-d2ea-fcbf204dfe4c"
      },
      "execution_count": null,
      "outputs": [
        {
          "output_type": "stream",
          "name": "stdout",
          "text": [
            "Name:  miki\n",
            "Age  50\n"
          ]
        }
      ]
    },
    {
      "cell_type": "code",
      "source": [
        "def printinfo( name, age ):\n",
        "   \"This prints a passed info into this function\"\n",
        "   print (\"Name: \", name)\n",
        "   print (\"Age \", age)\n",
        "\n",
        "\n",
        "printinfo( \"Qasim\", 30 )\n",
        "\n",
        "list1 = [\"Qasim\", 30]\n",
        "printinfo(list1[0], list1[1])\n",
        "printinfo(*list1)\n",
        "\n",
        "my_dict = {\"age\":30, \"name\":\"Qasim\"}\n",
        "printinfo(my_dict[\"name\"], my_dict[\"age\"])\n",
        "\n",
        "printinfo(**my_dict)\n",
        "#\n",
        "\n"
      ],
      "metadata": {
        "colab": {
          "base_uri": "https://localhost:8080/"
        },
        "id": "oiBRmFw77A9y",
        "outputId": "2a3e6ec3-e720-4202-b3e3-39b529ec00cb"
      },
      "execution_count": null,
      "outputs": [
        {
          "output_type": "stream",
          "name": "stdout",
          "text": [
            "Name:  Qasim\n",
            "Age  30\n",
            "Name:  Qasim\n",
            "Age  30\n",
            "Name:  Qasim\n",
            "Age  30\n",
            "Name:  Qasim\n",
            "Age  30\n",
            "Name:  Qasim\n",
            "Age  30\n"
          ]
        }
      ]
    },
    {
      "cell_type": "code",
      "source": [
        "def add(x: int,y: int=0) -> float:\n",
        "   return float(x + y)\n",
        "\n",
        "print(float(add(10,20)))\n",
        "\n",
        "print(add(y=50, x=2))\n",
        "\n",
        "print(add(x=5))"
      ],
      "metadata": {
        "colab": {
          "base_uri": "https://localhost:8080/"
        },
        "id": "h_jP86v985Yo",
        "outputId": "86c0abbf-ee2b-4a4d-a8fd-7922ad38eda9"
      },
      "execution_count": null,
      "outputs": [
        {
          "output_type": "stream",
          "name": "stdout",
          "text": [
            "30.0\n",
            "52.0\n",
            "5.0\n"
          ]
        }
      ]
    },
    {
      "cell_type": "code",
      "source": [
        "def my_sum(*nums):\n",
        "  print(type(nums))\n",
        "  print(nums)\n",
        "\n",
        "  # for num in nums:\n",
        "  #   print(\"value = \", num)\n",
        "\n",
        "  return sum(nums)\n",
        "\n",
        "print(my_sum(1,2,3,4,5,8,5))"
      ],
      "metadata": {
        "colab": {
          "base_uri": "https://localhost:8080/"
        },
        "id": "JMuwN_DX-aAG",
        "outputId": "6a276123-d19c-4e79-c9f4-c33897314b24"
      },
      "execution_count": null,
      "outputs": [
        {
          "output_type": "stream",
          "name": "stdout",
          "text": [
            "<class 'tuple'>\n",
            "(1, 2, 3, 4, 5, 8, 5)\n",
            "value =  1\n",
            "value =  2\n",
            "value =  3\n",
            "value =  4\n",
            "value =  5\n",
            "value =  8\n",
            "value =  5\n",
            "28\n"
          ]
        }
      ]
    },
    {
      "cell_type": "code",
      "source": [
        "def my_sum(**kwargs):\n",
        "  print(type(kwargs))\n",
        "  print(kwargs)\n",
        "\n",
        "  # for num in nums:\n",
        "  #   print(\"value = \", num)\n",
        "\n",
        "my_sum(name=\"Qasim\", age=30, phone=55566699, address=\"Karachi\")"
      ],
      "metadata": {
        "colab": {
          "base_uri": "https://localhost:8080/"
        },
        "id": "VG3jRG8V_L22",
        "outputId": "72d274b3-1935-4b45-dd4c-08af20cbc341"
      },
      "execution_count": null,
      "outputs": [
        {
          "output_type": "stream",
          "name": "stdout",
          "text": [
            "<class 'dict'>\n",
            "{'name': 'Qasim', 'age': 30, 'phone': 55566699, 'address': 'Karachi'}\n"
          ]
        }
      ]
    },
    {
      "cell_type": "markdown",
      "source": [
        "**Default Arguments**\n",
        "\n",
        "A default argument is an argument that assumes a default value if a value is not provided in the function call for that argument."
      ],
      "metadata": {
        "id": "mCCFxsnIjtNy"
      }
    },
    {
      "cell_type": "code",
      "source": [
        "def printinfo( name, age = 35 ):\n",
        "   \"This prints a passed info into this function\"\n",
        "   print (\"Name: \", name)\n",
        "   print (\"Age \", age)\n",
        "   return;\n",
        "\n",
        "# Now you can call printinfo function\n",
        "printinfo( age=50, name=\"Arif\" )\n",
        "printinfo( name=\"Arif\" )"
      ],
      "metadata": {
        "colab": {
          "base_uri": "https://localhost:8080/"
        },
        "id": "JAdolJSDjzci",
        "outputId": "d3889256-afce-491e-b1f7-173009c23a68"
      },
      "execution_count": null,
      "outputs": [
        {
          "output_type": "stream",
          "name": "stdout",
          "text": [
            "Name:  Arif\n",
            "Age  50\n",
            "Name:  Arif\n",
            "Age  35\n"
          ]
        }
      ]
    },
    {
      "cell_type": "markdown",
      "source": [
        "**Positional-only arguments**\n",
        "\n",
        "Those arguments that can only be specified by their position in the function call is called as `Positional-only arguments`. They are defined by placing a `\"/\"` in the function's parameter list after all positional-only parameters.\n",
        "\n",
        "Example\n",
        "\n",
        "  - In the following example, we have defined two positional-only arguments namely `\"x\"` and `\"y\"`. This method should be called with positional arguments in the order in which the arguments are declared, otherwise, we will get an error."
      ],
      "metadata": {
        "id": "3fTO5DtqkZT6"
      }
    },
    {
      "cell_type": "code",
      "source": [
        "def posFun(x, y, /, z):\n",
        "    print(x + y + z)\n",
        "\n",
        "print(\"Evaluating positional-only arguments: \")\n",
        "posFun(1, 2, z=3)\n",
        "\n",
        "# uncomment to see error\n",
        "#posFun(x=1, y=2, z=3)"
      ],
      "metadata": {
        "colab": {
          "base_uri": "https://localhost:8080/"
        },
        "id": "YpJqPVHbkc_8",
        "outputId": "30afbb96-6afc-43a0-b4d8-8901f2d30c9a"
      },
      "execution_count": null,
      "outputs": [
        {
          "output_type": "stream",
          "name": "stdout",
          "text": [
            "Evaluating positional-only arguments: \n",
            "6\n"
          ]
        }
      ]
    },
    {
      "cell_type": "code",
      "source": [
        "def all_params(a: int, b: int=0, *name_list, **name_dict):\n",
        "    print(a, b, name_list, name_dict)\n",
        "\n",
        "all_params(1, 2, \"st1\", \"st2\", \"st3\", name=\"Qasim\", age=30)"
      ],
      "metadata": {
        "colab": {
          "base_uri": "https://localhost:8080/"
        },
        "id": "bhb1trtPACMB",
        "outputId": "8b3afee5-bb0e-4d4d-f9d4-ca4135b83af4"
      },
      "execution_count": null,
      "outputs": [
        {
          "output_type": "stream",
          "name": "stdout",
          "text": [
            "1 2 ('st1', 'st2', 'st3') {'name': 'Qasim', 'age': 30}\n"
          ]
        }
      ]
    },
    {
      "cell_type": "code",
      "source": [
        "# prompt: def all_params(a: int, b: int=0, *name_list, **name_dict):\n",
        "#     print(a, b, name_list, name_dict)\n",
        "#  all_params(1, 2, \"st1\", \"st2\", \"st3\", name=\"Qasim\", age=30)\n",
        "# convert into python type hints\n",
        "\n",
        "from typing import Tuple, Dict, List\n",
        "var: str =55\n",
        "print(var)\n",
        "\n",
        "def all_params(a: int, b: int = 0, *name_list: str, **name_dict: str) -> None:\n",
        "    print(a, b, name_list, name_dict)"
      ],
      "metadata": {
        "colab": {
          "base_uri": "https://localhost:8080/"
        },
        "id": "Whu0XTUOCD6C",
        "outputId": "dc9c0542-8b92-40ca-b29f-ca66a0064227"
      },
      "execution_count": null,
      "outputs": [
        {
          "output_type": "stream",
          "name": "stdout",
          "text": [
            "55\n"
          ]
        }
      ]
    },
    {
      "cell_type": "code",
      "source": [
        "#all_params()"
      ],
      "metadata": {
        "id": "_BuQiCW_DBh6"
      },
      "execution_count": null,
      "outputs": []
    },
    {
      "cell_type": "markdown",
      "source": [
        "**Error**\n",
        "\n",
        "```python\n",
        "posFun(x=1, y=2, z=3)\n",
        "```\n",
        "\n",
        "This means that arguments before the '/' must be specified by their position in the function call and cannot be passed using keyword arguments.\n",
        "\n",
        "`x` and `y` are declared before the '/', making them positional-only. When you call `posFun(x=1, y=2, z=3)`, you're attempting to pass `x` and `y` as keyword arguments, violating this rule and hence the `TypeError` is raised."
      ],
      "metadata": {
        "id": "Te05rGsDlGqJ"
      }
    },
    {
      "cell_type": "markdown",
      "source": [
        "**Keyword-only arguments**\n",
        "\n",
        "Those arguments that must be specified by their name while calling the function is known as Keyword-only arguments. They are defined by placing an asterisk (\"*\") in the function's parameter list before any keyword-only parameters. This type of argument can only be passed to a function as a keyword argument, not a positional argument."
      ],
      "metadata": {
        "id": "lJdMYJojl87A"
      }
    },
    {
      "cell_type": "code",
      "source": [
        "def posFun(*, num1, num2, num3):\n",
        "    print(num1 * num2 * num3)\n",
        "\n",
        "print(\"Evaluating keyword-only arguments: \")\n",
        "posFun(num1=6, num2=8, num3=5)\n",
        "\n",
        "posFun(num3=6, num1=8, num2=5)\n",
        "\n",
        "\n",
        "# TypeError: posFun() takes 0 positional arguments but 3 were given\n",
        "#posFun(6, 8, 5)"
      ],
      "metadata": {
        "colab": {
          "base_uri": "https://localhost:8080/"
        },
        "id": "MfSEgmXLmAIv",
        "outputId": "10e5e9de-ead8-4edd-9346-e8e1b919c498"
      },
      "execution_count": null,
      "outputs": [
        {
          "output_type": "stream",
          "name": "stdout",
          "text": [
            "Evaluating keyword-only arguments: \n",
            "240\n",
            "240\n"
          ]
        }
      ]
    },
    {
      "cell_type": "markdown",
      "source": [
        "**Arbitrary or Variable-length Arguments**\n",
        "\n",
        "You may need to process a function for more arguments than you specified while defining the function. These arguments are called variable-length arguments and are not named in the function definition, unlike required and default arguments.\n",
        "\n",
        "Syntax for a function with non-keyword variable arguments is this −\n",
        "\n",
        "```python\n",
        "  def functionname([formal_args,] *var_args_tuple ):\n",
        "    \"function_docstring\"\n",
        "    function_suite\n",
        "    return [expression]\n",
        "\n",
        "```"
      ],
      "metadata": {
        "id": "evRAuwqXriLk"
      }
    },
    {
      "cell_type": "code",
      "source": [
        "def printinfo( arg1, *vartuple ):\n",
        "   \"This prints a variable passed arguments\"\n",
        "   print (\"Output is: \")\n",
        "   print (arg1)\n",
        "   for var in vartuple:\n",
        "      print (\"*\",var)\n",
        "   return;\n",
        "\n",
        "# Now you can call printinfo function\n",
        "printinfo( 10 )\n",
        "printinfo( 70, 60, 50, 70, 90 )"
      ],
      "metadata": {
        "colab": {
          "base_uri": "https://localhost:8080/"
        },
        "id": "ZIzK8XEJr1JS",
        "outputId": "e44956ca-c11e-44bd-ad25-231602bf336e"
      },
      "execution_count": null,
      "outputs": [
        {
          "output_type": "stream",
          "name": "stdout",
          "text": [
            "Output is: \n",
            "10\n",
            "Output is: \n",
            "70\n",
            "* 60\n",
            "* 50\n",
            "* 70\n",
            "* 90\n"
          ]
        }
      ]
    },
    {
      "cell_type": "markdown",
      "source": [
        "**Python Function with Return Value**\n",
        "\n",
        "The return keyword as the last statement in function definition indicates end of function block, and the program flow goes back to the calling function. ***`Although reduced indent after the last statement in the block also implies return but using explicit return is a good practice`***.\n",
        "\n",
        "Along with the flow control, the function can also return value of an expression to the calling function. The value of returned expression can be stored in a variable for further processing."
      ],
      "metadata": {
        "id": "gFA-oMJSszuV"
      }
    },
    {
      "cell_type": "code",
      "source": [
        "def add(x,y):\n",
        "   z=x+y\n",
        "   return z\n",
        "\n",
        "a=10\n",
        "b=20\n",
        "result = add(a,b)\n",
        "\n",
        "print (\"a = {} b = {} a+b = {}\".format(a, b, result))"
      ],
      "metadata": {
        "colab": {
          "base_uri": "https://localhost:8080/"
        },
        "id": "eEAPGJGys-wJ",
        "outputId": "a237d0f7-dc9c-411d-f848-480de6f7d615"
      },
      "execution_count": null,
      "outputs": [
        {
          "output_type": "stream",
          "name": "stdout",
          "text": [
            "a = 10 b = 20 a+b = 30\n"
          ]
        }
      ]
    },
    {
      "cell_type": "markdown",
      "source": [
        "**The Anonymous Functions**\n",
        "\n",
        "The functions are called anonymous when they are not declared in the standard manner by using the def keyword. Instead, they are defined using the `lambda keyword`.\n",
        "\n",
        "**Syntax**\n",
        "\n",
        "The syntax of lambda functions contains only a single statement, which is as follows −\n",
        "\n",
        "```python\n",
        "lambda [arg1 [,arg2,.....argn]]:expression\n",
        "```"
      ],
      "metadata": {
        "id": "Tbs4wxH7tUt6"
      }
    },
    {
      "cell_type": "code",
      "source": [
        "def add_two(x, y):\n",
        "  return x + y\n",
        "\n",
        "my_lambda = lambda x, y:  x + y;\n",
        "\n",
        "print(my_lambda(1,2))"
      ],
      "metadata": {
        "colab": {
          "base_uri": "https://localhost:8080/"
        },
        "id": "BSmxnJFkGgQF",
        "outputId": "08ff4dc4-5e17-4575-a22d-b93a6723cb74"
      },
      "execution_count": null,
      "outputs": [
        {
          "output_type": "stream",
          "name": "stdout",
          "text": [
            "3\n"
          ]
        }
      ]
    },
    {
      "cell_type": "code",
      "source": [
        "# prompt: sort by value dictionary using lambda function\n",
        "\n",
        "my_dict = {\"apple\": 5, \"banana\": 2, \"cherry\": 8, \"date\": 1}\n",
        "\n",
        "sorted_dict = dict(sorted(my_dict.items(), key=lambda item: item[1]))\n",
        "\n",
        "sorted_dict"
      ],
      "metadata": {
        "colab": {
          "base_uri": "https://localhost:8080/"
        },
        "id": "HSH4SqCJHRu2",
        "outputId": "8932c1be-b92a-41ca-ee95-82827a6c01da"
      },
      "execution_count": null,
      "outputs": [
        {
          "output_type": "execute_result",
          "data": {
            "text/plain": [
              "{'date': 1, 'banana': 2, 'apple': 5, 'cherry': 8}"
            ]
          },
          "metadata": {},
          "execution_count": 46
        }
      ]
    },
    {
      "cell_type": "code",
      "source": [
        "# Function definition is here\n",
        "sum = lambda arg1, arg2: arg1 + arg2;\n",
        "\n",
        "# Now you can call sum as a function\n",
        "print (\"Value of total : \", sum( 10, 20 ))\n",
        "print (\"Value of total : \", sum( 50, 20 ))"
      ],
      "metadata": {
        "colab": {
          "base_uri": "https://localhost:8080/"
        },
        "id": "MartwaCctsN5",
        "outputId": "b3f48947-ca04-4297-b528-6a3031ce2c85"
      },
      "execution_count": null,
      "outputs": [
        {
          "output_type": "stream",
          "name": "stdout",
          "text": [
            "Value of total :  30\n",
            "Value of total :  70\n"
          ]
        }
      ]
    },
    {
      "cell_type": "markdown",
      "source": [
        "**Scope of Variables**\n",
        "\n",
        "All variables in a program may not be accessible at all locations in that program. This depends on where you have declared a variable.\n",
        "\n",
        "The scope of a variable determines the portion of the program where you can access a particular identifier. There are two basic scopes of variables in Python −\n",
        "\n",
        "  - `Global variables`\n",
        "\n",
        "  - `Local variables`\n",
        "\n",
        "\n",
        "**Global vs. Local variables**\n",
        "\n",
        "Variables that are defined inside a function body have a local scope, and those defined outside have a global scope.\n",
        "\n",
        "This means that local variables can be accessed only inside the function in which they are declared, whereas global variables can be accessed throughout the program body by all functions. When you call a function, the variables declared inside it are brought into scope."
      ],
      "metadata": {
        "id": "pbVO0BHGt5On"
      }
    },
    {
      "cell_type": "code",
      "source": [
        "total = 0; # This is global variable.\n",
        "# Function definition is here\n",
        "def sum( arg1, arg2 ):\n",
        "   # Add both the parameters and return them.\"\n",
        "   total = arg1 + arg2; # Here total is local variable.\n",
        "   print (\"Inside the function local total : \", total)\n",
        "   return total;\n",
        "\n",
        "# Now you can call sum function\n",
        "sum( 10, 20 );\n",
        "print (\"Outside the function global total : \", total)"
      ],
      "metadata": {
        "colab": {
          "base_uri": "https://localhost:8080/"
        },
        "id": "DeEC3odxuWpP",
        "outputId": "786f6b47-dded-439b-ffe2-23beb3e11749"
      },
      "execution_count": null,
      "outputs": [
        {
          "output_type": "stream",
          "name": "stdout",
          "text": [
            "Inside the function local total :  30\n",
            "Outside the function global total :  0\n"
          ]
        }
      ]
    },
    {
      "cell_type": "markdown",
      "source": [
        "##**Arbitrary Keyword Arguments, **kwargs**\n",
        "\n",
        "If you do not know how many keyword arguments that will be passed into your function, add two asterisk: ** before the parameter name in the function definition.\n",
        "\n",
        "This way the function will receive a dictionary of arguments, and can access the items accordingly:\n",
        "\n"
      ],
      "metadata": {
        "id": "fvTE_h4a9TWD"
      }
    },
    {
      "cell_type": "code",
      "source": [
        "def my_function(**student):\n",
        "  print(\"\\nHis last name is \" + student[\"lname\"])\n",
        "\n",
        "  for key, value in student.items():\n",
        "    print(key, value)\n",
        "\n",
        "  print(student)\n",
        "\n",
        "my_function(fname = \"Ali\", lname = \"Osman\")\n",
        "\n",
        "my_function(fname = \"Ali\", lname = \"Osman\", course = \"Python - 101\", day=\"Saturday\", time=\"1400 - 1800\")\n",
        "\n",
        "my_dict = {\"fname\": \"Arif\", \"lname\": \"Kasim\", \"course\":\"101 - 201\", \"day\":\"Saturday | Sunday\", \"role\":\"Student\"}\n",
        "\n",
        "#my_function(my_dict)\n",
        "my_function(**my_dict)"
      ],
      "metadata": {
        "colab": {
          "base_uri": "https://localhost:8080/"
        },
        "id": "IK8Khz0g9iOp",
        "outputId": "19af1651-4e80-4a85-f047-fb1a60243d1e"
      },
      "execution_count": null,
      "outputs": [
        {
          "output_type": "stream",
          "name": "stdout",
          "text": [
            "\n",
            "His last name is Osman\n",
            "fname Ali\n",
            "lname Osman\n",
            "{'fname': 'Ali', 'lname': 'Osman'}\n",
            "\n",
            "His last name is Osman\n",
            "fname Ali\n",
            "lname Osman\n",
            "course Python - 101\n",
            "day Saturday\n",
            "time 1400 - 1800\n",
            "{'fname': 'Ali', 'lname': 'Osman', 'course': 'Python - 101', 'day': 'Saturday', 'time': '1400 - 1800'}\n",
            "\n",
            "His last name is Kasim\n",
            "fname Arif\n",
            "lname Kasim\n",
            "course 101 - 201\n",
            "day Saturday | Sunday\n",
            "role Student\n",
            "{'fname': 'Arif', 'lname': 'Kasim', 'course': '101 - 201', 'day': 'Saturday | Sunday', 'role': 'Student'}\n"
          ]
        }
      ]
    },
    {
      "cell_type": "markdown",
      "source": [
        "###**Generator Function**"
      ],
      "metadata": {
        "id": "ITBsWAOhJYBn"
      }
    },
    {
      "cell_type": "code",
      "source": [
        "def my_range(start, end, step=1):\n",
        "  for i in range(start, end+1, step):\n",
        "    yield i  #Generator\n",
        "\n",
        "my_list = my_range(1, 10, 1)\n",
        "print(my_list)\n",
        "print(next(my_list))\n",
        "print(\"Pakistan Zindabad\")\n",
        "print(next(my_list))\n",
        "print(next(my_list))\n",
        "#print(list(my_list))\n",
        "\n",
        "my_list2 = my_range(1, 20, 1)\n",
        "\n",
        "for i in my_list2:\n",
        "  print(\"*\", i)"
      ],
      "metadata": {
        "colab": {
          "base_uri": "https://localhost:8080/"
        },
        "id": "Nf_7wkxNIw-j",
        "outputId": "4dc7a121-6073-4b05-f89d-d9821287db87"
      },
      "execution_count": null,
      "outputs": [
        {
          "output_type": "stream",
          "name": "stdout",
          "text": [
            "<generator object my_range at 0x7c3585c2f1f0>\n",
            "1\n",
            "Pakistan Zindabad\n",
            "2\n",
            "3\n",
            "* 1\n",
            "* 2\n",
            "* 3\n",
            "* 4\n",
            "* 5\n",
            "* 6\n",
            "* 7\n",
            "* 8\n",
            "* 9\n",
            "* 10\n",
            "* 11\n",
            "* 12\n",
            "* 13\n",
            "* 14\n",
            "* 15\n",
            "* 16\n",
            "* 17\n",
            "* 18\n",
            "* 19\n",
            "* 20\n"
          ]
        }
      ]
    },
    {
      "cell_type": "markdown",
      "source": [
        "###**Recursion**\n",
        "*Recursive Function*"
      ],
      "metadata": {
        "id": "FW55QX91MSpf"
      }
    },
    {
      "cell_type": "code",
      "source": [
        "# prompt: generate an example of recursive function\n",
        "\n",
        "def factorial(n):\n",
        "  if n == 0:\n",
        "    return 1\n",
        "  else:\n",
        "    return n * factorial(n-1)\n",
        "\n",
        "number = 5\n",
        "result = factorial(number)\n",
        "print(f\"The factorial of {number} is {result}\")"
      ],
      "metadata": {
        "colab": {
          "base_uri": "https://localhost:8080/"
        },
        "id": "p0oq1r4zMSKA",
        "outputId": "da791b5a-3326-4389-c909-49735e453854"
      },
      "execution_count": null,
      "outputs": [
        {
          "output_type": "stream",
          "name": "stdout",
          "text": [
            "The factorial of 5 is 120\n"
          ]
        }
      ]
    },
    {
      "cell_type": "code",
      "source": [
        "def example_function(a: int, b: int = 0, *args: float, **kwargs: str) -> Tuple[int, List[float], Dict[str, str]]:\n",
        "    \"\"\"Example function demonstrating various parameter types.\n",
        "    Args:\n",
        "        a: An integer.\n",
        "        b: An integer with a default value of 0.\n",
        "        *args: Variable-length positional arguments of type float.\n",
        "        **kwargs: Variable-length keyword arguments of type string.\n",
        "    Returns:\n",
        "        A tuple containing:\n",
        "        - The sum of 'a' and 'b'.\n",
        "        - A list of the variable-length positional arguments ('args').\n",
        "        - A dictionary of the variable-length keyword arguments ('kwargs').\n",
        "    \"\"\"\n",
        "    sum_ab = a + b\n",
        "    args_list = list(args)  # Convert tuple to a list\n",
        "    return sum_ab, args_list, kwargs\n",
        "\n",
        "# Example usage\n",
        "result = example_function(1, 2, 3.14, 2.71, name=\"Alice\", city=\"New York\")\n",
        "print(result)\n",
        "\n",
        "result = example_function(10, *[1.0, 2.0, 3.0], **{\"country\": \"USA\", \"language\": \"English\"})\n",
        "result"
      ],
      "metadata": {
        "colab": {
          "base_uri": "https://localhost:8080/"
        },
        "id": "3v5wkjlrYmkw",
        "outputId": "8887071d-ad85-4da0-d91c-697e114eb9fe"
      },
      "execution_count": null,
      "outputs": [
        {
          "output_type": "stream",
          "name": "stdout",
          "text": [
            "(3, [3.14, 2.71], {'name': 'Alice', 'city': 'New York'})\n"
          ]
        },
        {
          "output_type": "execute_result",
          "data": {
            "text/plain": [
              "(11.0, [2.0, 3.0], {'country': 'USA', 'language': 'English'})"
            ]
          },
          "metadata": {},
          "execution_count": 12
        }
      ]
    }
  ]
}
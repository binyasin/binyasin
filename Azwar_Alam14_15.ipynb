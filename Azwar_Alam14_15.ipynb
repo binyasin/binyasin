{
  "nbformat": 4,
  "nbformat_minor": 0,
  "metadata": {
    "colab": {
      "provenance": [],
      "authorship_tag": "ABX9TyODck/gUFUzCF+IZ+A0BFji",
      "include_colab_link": true
    },
    "kernelspec": {
      "name": "python3",
      "display_name": "Python 3"
    },
    "language_info": {
      "name": "python"
    }
  },
  "cells": [
    {
      "cell_type": "markdown",
      "metadata": {
        "id": "view-in-github",
        "colab_type": "text"
      },
      "source": [
        "<a href=\"https://colab.research.google.com/github/binyasin/binyasin/blob/main/Azwar_Alam14_15.ipynb\" target=\"_parent\"><img src=\"https://colab.research.google.com/assets/colab-badge.svg\" alt=\"Open In Colab\"/></a>"
      ]
    },
    {
      "cell_type": "code",
      "execution_count": 12,
      "metadata": {
        "colab": {
          "base_uri": "https://localhost:8080/"
        },
        "id": "19As5Og_8DHm",
        "outputId": "fe1fa289-daa8-4548-b030-675c38aeff7b"
      },
      "outputs": [
        {
          "output_type": "stream",
          "name": "stdout",
          "text": [
            "[1, 2, 3, 4, 5, 6, 7, 8, 9, 10, 11, 12, 13, 14, 15, 16, 17, 18, 19, 20]\n",
            "[20, 18, 16, 14, 12, 10, 8, 6, 4, 2]\n"
          ]
        }
      ],
      "source": [
        "my_list= list(range(1,21))\n",
        "print(my_list)\n",
        "vNumber = len(my_list)-1\n",
        "even_number=[]\n",
        "while vNumber >= 0:\n",
        "    if my_list[vNumber] % 2 == 0:\n",
        "        even_number.append(my_list[vNumber])\n",
        "    vNumber -= 1\n",
        "print(even_number)\n"
      ]
    },
    {
      "cell_type": "code",
      "source": [
        "def is_even(x):\n",
        "    return x % 2 == 0\n",
        "# Changed vlist to my_list, assuming this was the intended list to iterate over.\n",
        "vEvenNumbers = [num for num in my_list if is_even(num)]\n",
        "print(vEvenNumbers)\n",
        "vEvenNumbersDecending = sorted(vEvenNumbers, reverse=True)\n",
        "print(vEvenNumbersDecending)"
      ],
      "metadata": {
        "colab": {
          "base_uri": "https://localhost:8080/"
        },
        "id": "bjntg_4u-DvK",
        "outputId": "7bd5e4aa-2348-40ff-fa59-e6883eede4a4"
      },
      "execution_count": 26,
      "outputs": [
        {
          "output_type": "stream",
          "name": "stdout",
          "text": [
            "[2, 4, 6, 8, 10, 12, 14, 16, 18, 20]\n",
            "[20, 18, 16, 14, 12, 10, 8, 6, 4, 2]\n"
          ]
        }
      ]
    },
    {
      "cell_type": "code",
      "source": [
        "vlist = range(1,21)\n",
        "def is_even(x):\n",
        "    return x % 2 == 0\n",
        "vEvenNumbers = sorted(filter(is_even, vlist),reverse=True)\n",
        "print(vEvenNumbers)\n",
        "#vEenenNumberDecending = sorted(vEenenNumber, reverse=True)\n",
        "#print(vEenenNumberDecending)"
      ],
      "metadata": {
        "colab": {
          "base_uri": "https://localhost:8080/"
        },
        "id": "Y2x6GIqcIEyS",
        "outputId": "b3d5498e-62ae-439f-c1a1-4375cc719c95"
      },
      "execution_count": 35,
      "outputs": [
        {
          "output_type": "stream",
          "name": "stdout",
          "text": [
            "[20, 18, 16, 14, 12, 10, 8, 6, 4, 2]\n"
          ]
        }
      ]
    }
  ]
}
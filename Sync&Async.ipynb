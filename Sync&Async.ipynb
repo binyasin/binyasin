{
  "nbformat": 4,
  "nbformat_minor": 0,
  "metadata": {
    "colab": {
      "provenance": [],
      "authorship_tag": "ABX9TyOb5KOYBEgSzagy9N6mLtvy",
      "include_colab_link": true
    },
    "kernelspec": {
      "name": "python3",
      "display_name": "Python 3"
    },
    "language_info": {
      "name": "python"
    }
  },
  "cells": [
    {
      "cell_type": "markdown",
      "metadata": {
        "id": "view-in-github",
        "colab_type": "text"
      },
      "source": [
        "<a href=\"https://colab.research.google.com/github/binyasin/binyasin/blob/main/Sync%26Async.ipynb\" target=\"_parent\"><img src=\"https://colab.research.google.com/assets/colab-badge.svg\" alt=\"Open In Colab\"/></a>"
      ]
    },
    {
      "cell_type": "code",
      "execution_count": 9,
      "metadata": {
        "id": "FA9m-30Ns87G"
      },
      "outputs": [],
      "source": [
        "def fetch_data():\n",
        "\n",
        "    return data\n",
        "    data = slow_database_call()  # This blocks until done\n",
        "    print(data)\n"
      ]
    },
    {
      "cell_type": "code",
      "source": [
        "\n",
        "import asyncio\n",
        "\n",
        "async def fetch_data():\n",
        "\n",
        "    data = await slow_database_call()  # Doesn't block other tasks\n",
        "    print(data)\n"
      ],
      "metadata": {
        "id": "6NOAST0ftNav"
      },
      "execution_count": 8,
      "outputs": []
    },
    {
      "cell_type": "code",
      "source": [
        "import time\n",
        "\n",
        "def slow_task(name):\n",
        "    print(f\"Starting task {name}\")\n",
        "    time.sleep(2)  # Simulates a delay (e.g., network call)\n",
        "    print(f\"Finished task {name}\")\n",
        "\n",
        "def run_sync():\n",
        "    print(\"Running tasks synchronously...\")\n",
        "    slow_task(\"A\")\n",
        "    slow_task(\"B\")\n",
        "    slow_task(\"C\")\n",
        "\n",
        "if __name__ == \"__main__\":\n",
        "    # This is the code that should run when the script is executed directly.\n",
        "    # It must be indented under the if statement.\n",
        "    run_sync()"
      ],
      "metadata": {
        "colab": {
          "base_uri": "https://localhost:8080/"
        },
        "id": "oXAWf4hTt3Ln",
        "outputId": "81bddf84-ca26-4a0e-f113-a016f5fe2a89"
      },
      "execution_count": 18,
      "outputs": [
        {
          "output_type": "stream",
          "name": "stdout",
          "text": [
            "Running tasks synchronously...\n",
            "Starting task A\n",
            "Finished task A\n",
            "Starting task B\n",
            "Finished task B\n",
            "Starting task C\n",
            "Finished task C\n"
          ]
        }
      ]
    },
    {
      "cell_type": "code",
      "source": [
        "import asyncio\n",
        "\n",
        "async def slow_task_async(name):\n",
        "    \"\"\"An asynchronous version of the slow task.\"\"\"\n",
        "    print(f\"Starting async task {name}\")\n",
        "    await asyncio.sleep(2)  # Use asyncio.sleep for non-blocking delay\n",
        "    print(f\"Finished async task {name}\")\n",
        "\n",
        "async def run_async():\n",
        "    \"\"\"Runs tasks asynchronously.\"\"\"\n",
        "    print(\"Running tasks asynchronously...\")\n",
        "    # Create tasks for each slow task\n",
        "    task_a = asyncio.create_task(slow_task_async(\"A\"))\n",
        "    task_b = asyncio.create_task(slow_task_async(\"B\"))\n",
        "    task_c = asyncio.create_task(slow_task_async(\"C\"))\n",
        "\n",
        "    # Wait for all tasks to complete\n",
        "    await asyncio.gather(task_a, task_b, task_c)\n",
        "    print(\"All async tasks finished.\")\n",
        "\n",
        "\n",
        "# Remove the if __name__ == \"__main__\": block and the asyncio.run() call.\n",
        "# In a Jupyter notebook, you can simply await the async function directly.\n",
        "await run_async()"
      ],
      "metadata": {
        "colab": {
          "base_uri": "https://localhost:8080/"
        },
        "id": "636btGUEvWEO",
        "outputId": "108b4871-c4a6-4f3e-de20-6f1171f96060"
      },
      "execution_count": 21,
      "outputs": [
        {
          "output_type": "stream",
          "name": "stdout",
          "text": [
            "Running tasks asynchronously...\n",
            "Starting async task A\n",
            "Starting async task B\n",
            "Starting async task C\n",
            "Finished async task A\n",
            "Finished async task B\n",
            "Finished async task C\n",
            "All async tasks finished.\n"
          ]
        }
      ]
    }
  ]
}
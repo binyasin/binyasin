{
  "nbformat": 4,
  "nbformat_minor": 0,
  "metadata": {
    "colab": {
      "provenance": [],
      "authorship_tag": "ABX9TyO64//JYXWj0D0ALt4b3R89",
      "include_colab_link": true
    },
    "kernelspec": {
      "name": "python3",
      "display_name": "Python 3"
    },
    "language_info": {
      "name": "python"
    }
  },
  "cells": [
    {
      "cell_type": "markdown",
      "metadata": {
        "id": "view-in-github",
        "colab_type": "text"
      },
      "source": [
        "<a href=\"https://colab.research.google.com/github/binyasin/binyasin/blob/main/Project_Lists.ipynb\" target=\"_parent\"><img src=\"https://colab.research.google.com/assets/colab-badge.svg\" alt=\"Open In Colab\"/></a>"
      ]
    },
    {
      "cell_type": "markdown",
      "source": [
        "Write a function that takes a list of numbers and returns the sum of those numbers."
      ],
      "metadata": {
        "id": "923VMw2tZlB1"
      }
    },
    {
      "cell_type": "code",
      "execution_count": 2,
      "metadata": {
        "colab": {
          "base_uri": "https://localhost:8080/"
        },
        "id": "X1qK8Aj7ZfvK",
        "outputId": "8f092474-0c53-474b-99ee-2c5301733efa"
      },
      "outputs": [
        {
          "output_type": "execute_result",
          "data": {
            "text/plain": [
              "15"
            ]
          },
          "metadata": {},
          "execution_count": 2
        }
      ],
      "source": [
        "def vlist():\n",
        "  return sum([1,2,3,4,5])\n",
        "vlist()\n",
        "\n"
      ]
    },
    {
      "cell_type": "markdown",
      "source": [
        "Write a program that doubles each element in a list of numbers. For example, if you start with this list:\n",
        "\n",
        "numbers = [1, 2, 3, 4]\n",
        "\n",
        "You should end with this list:\n",
        "\n",
        "numbers = [2, 4, 6, 8]"
      ],
      "metadata": {
        "id": "EikjNp6ba6iU"
      }
    },
    {
      "cell_type": "code",
      "source": [
        "\n",
        "my_list = [10, 20, 30]\n",
        "doubled_list = [x * 2 for x in my_list]\n",
        "print(doubled_list)"
      ],
      "metadata": {
        "colab": {
          "base_uri": "https://localhost:8080/"
        },
        "id": "L8F3GT01a9fd",
        "outputId": "0f633802-a4a8-43e4-8688-f40dd3500912"
      },
      "execution_count": 52,
      "outputs": [
        {
          "output_type": "stream",
          "name": "stdout",
          "text": [
            "[20, 40, 60]\n"
          ]
        }
      ]
    },
    {
      "cell_type": "markdown",
      "source": [
        "Implement an 'eraser' on a canvas.\n",
        "\n",
        "The canvas consists of a grid of blue 'cells' which are drawn as rectangles on the screen. We then create an eraser rectangle which, when dragged around the canvas, sets all of the rectangles it is in contact with to white."
      ],
      "metadata": {
        "id": "bMlj_na6iADE"
      }
    },
    {
      "cell_type": "code",
      "source": [
        "# prompt: Draw a convas\n",
        "\n",
        "import matplotlib.pyplot as plt\n",
        "import matplotlib.patches as patches\n",
        "\n",
        "# Example canvas dimensions\n",
        "canvas_width = 10\n",
        "canvas_height = 10\n",
        "\n",
        "# Create the canvas\n",
        "fig, ax = plt.subplots()\n",
        "ax.set_xlim(0, canvas_width)\n",
        "ax.set_ylim(0, canvas_height)\n",
        "\n",
        "# Draw the blue cells\n",
        "for i in range(canvas_width):\n",
        "    for j in range(canvas_height):\n",
        "        rect = patches.Rectangle((i, j), 1, 1, linewidth=1, edgecolor='black', facecolor='blue')\n",
        "        ax.add_patch(rect)\n",
        "\n",
        "# Eraser parameters\n",
        "eraser_size = 2  # Size of the eraser rectangle (2x2 in this case)\n",
        "eraser_x = 0\n",
        "eraser_y = 0\n",
        "\n",
        "\n",
        "# Function to update the canvas based on the eraser position\n",
        "def update_canvas(eraser_x, eraser_y):\n",
        "    for i in range(canvas_width):\n",
        "        for j in range(canvas_height):\n",
        "            rect = patches.Rectangle((i, j), 1, 1, linewidth=1, edgecolor='black', facecolor='blue')\n",
        "            ax.add_patch(rect)\n",
        "\n",
        "            if (i >= eraser_x and i < eraser_x + eraser_size and\n",
        "                j >= eraser_y and j < eraser_y + eraser_size):\n",
        "\n",
        "                rect = patches.Rectangle((i, j), 1, 1, linewidth=1, edgecolor='black', facecolor='white')\n",
        "                ax.add_patch(rect)\n",
        "\n",
        "\n",
        "# Example usage (simulate dragging the eraser)\n",
        "update_canvas(2, 2)\n",
        "update_canvas(5, 5)\n",
        "update_canvas(8, 1)\n",
        "\n",
        "plt.show()"
      ],
      "metadata": {
        "colab": {
          "base_uri": "https://localhost:8080/",
          "height": 435
        },
        "id": "TPPVpt2WkBzD",
        "outputId": "de32763a-1f2b-4e7b-8a07-b642a49e51d2"
      },
      "execution_count": 58,
      "outputs": [
        {
          "output_type": "display_data",
          "data": {
            "text/plain": [
              "<Figure size 640x480 with 1 Axes>"
            ],
            "image/png": "[encoded data removed]"
          },
          "metadata": {}
        }
      ]
    },
    {
      "cell_type": "code",
      "source": [
        "str = input(\"Enter a words to copy: \")\n",
        "#listbefore = []\n",
        "listafter = []\n",
        "listafter.append(str)\n",
        "print(listafter*3)"
      ],
      "metadata": {
        "colab": {
          "base_uri": "https://localhost:8080/"
        },
        "id": "RtQ7eFgGlE3I",
        "outputId": "5d4f9db4-e0eb-4379-ad62-3c6bc1ed8eb2"
      },
      "execution_count": 73,
      "outputs": [
        {
          "output_type": "stream",
          "name": "stdout",
          "text": [
            "Enter a words to copy: Karachi\n",
            "['Karachi', 'Karachi', 'Karachi']\n"
          ]
        }
      ]
    },
    {
      "cell_type": "markdown",
      "source": [
        "\n",
        "\n",
        "Fill out the function get_first_element(lst) which takes in a list lst as a parameter and prints the first element in the list. The list is guaranteed to be non-empty. We've written some code for you which prompts the user to input the list one element at a time.\n",
        "\n",
        "Starter Code\n"
      ],
      "metadata": {
        "id": "op5jxDHloXkJ"
      }
    },
    {
      "cell_type": "code",
      "source": [
        "# prompt: Fill out the function get_first_element(lst) which takes in a list lst as a parameter and prints the first element in the list. The list is guaranteed to be non-empty. We've written some code for you which prompts the user to input the list one element at a time.\n",
        "\n",
        "def get_first_element(lst):\n",
        "    print(lst[0])\n",
        "\n",
        "lst = []\n",
        "n = int(input())\n",
        "for _ in range(n):\n",
        "    lst.append(int(input()))\n",
        "get_first_element(lst)\n"
      ],
      "metadata": {
        "colab": {
          "base_uri": "https://localhost:8080/"
        },
        "id": "EZlQ2E-foj-c",
        "outputId": "da4d3ee2-47bf-4e32-aeba-3c6427e72f7e"
      },
      "execution_count": 75,
      "outputs": [
        {
          "output_type": "stream",
          "name": "stdout",
          "text": [
            "5\n",
            "7\n",
            "8\n",
            "9\n",
            "12\n",
            "24\n",
            "7\n"
          ]
        }
      ]
    },
    {
      "cell_type": "markdown",
      "source": [
        "Fill out the function get_last_element(lst) which takes in a list lst as a parameter and prints the last element in the list. The list is guaranteed to be non-empty, but there are no guarantees on its length.\n",
        "\n"
      ],
      "metadata": {
        "id": "cvCYahYFpbZU"
      }
    },
    {
      "cell_type": "code",
      "source": [
        "# prompt: Fill out the function get_last_element(lst) which takes in a list lst as a parameter and prints the last element in the list. The list is guaranteed to be non-empty, but there are no guarantees on its length.\n",
        "\n",
        "def get_last_element(lst):\n",
        "    print(lst[-1])\n",
        "\n",
        "lst = []\n",
        "n = int(input())\n",
        "for _ in range(n):\n",
        "    lst.append(int(input()))\n",
        "get_last_element(lst)"
      ],
      "metadata": {
        "colab": {
          "base_uri": "https://localhost:8080/"
        },
        "id": "A50M98Vypetb",
        "outputId": "d6be4a0d-948b-4d5f-d0ad-a1ef10abad35"
      },
      "execution_count": 76,
      "outputs": [
        {
          "output_type": "stream",
          "name": "stdout",
          "text": [
            "4\n",
            "5\n",
            "6\n",
            "7\n",
            "8\n",
            "8\n"
          ]
        }
      ]
    },
    {
      "cell_type": "markdown",
      "source": [
        "Write a program which continuously asks the user to enter values which are added one by one into a list. When the user presses enter without typing anything, print the list.\n",
        "\n",
        "Here's a sample run (user input is in blue):\n",
        "\n",
        "Enter a value: 1 Enter a value: 2 Enter a value: 3 Enter a value: Here's the list: ['1', '2', '3']"
      ],
      "metadata": {
        "id": "0lwDZ8vJqGiJ"
      }
    },
    {
      "cell_type": "code",
      "source": [
        "# prompt: Write a program which continuously asks the user to enter values which are added one by one into a list. When the user presses enter without typing anything, print the list.\n",
        "\n",
        "values = []\n",
        "while True:\n",
        "  value = input(\"Enter a value: \")\n",
        "  if value == \"\":\n",
        "    break\n",
        "  values.append(value)\n",
        "print(\"Here's the list:\", values)"
      ],
      "metadata": {
        "colab": {
          "base_uri": "https://localhost:8080/"
        },
        "id": "L7Bs9tiWqIOR",
        "outputId": "81f7312a-4be7-41e1-d1a2-75cd987dac0c"
      },
      "execution_count": 78,
      "outputs": [
        {
          "output_type": "stream",
          "name": "stdout",
          "text": [
            "Enter a value: Karach\n",
            "Enter a value: Lahore\n",
            "Enter a value: Islamabad\n",
            "Enter a value: Rawalpindi\n",
            "Enter a value: Peshawar\n",
            "Enter a value: Quita\n",
            "Enter a value: \n",
            "Here's the list: ['Karach', 'Lahore', 'Islamabad', 'Rawalpindi', 'Peshawar', 'Quita']\n"
          ]
        }
      ]
    },
    {
      "cell_type": "markdown",
      "source": [
        "Fill out the function shorten(lst) which removes elements from the end of lst, which is a list, and prints each item it removes until lst is MAX_LENGTH items long. If lst is already shorter than MAX_LENGTH you should leave it unchanged. We've written a main() function for you which gets a list and passes it into your function once you run the program. For the autograder to pass you will need MAX_LENGTH to be 3, but feel free to change it around to test your program."
      ],
      "metadata": {
        "id": "QMDn23efrLws"
      }
    },
    {
      "cell_type": "code",
      "source": [
        "def shorten(lst):\n",
        "    while len(lst) > MAX_LENGTH:\n",
        "      removed_element = lst.pop()\n",
        "print(removed_element)"
      ],
      "metadata": {
        "colab": {
          "base_uri": "https://localhost:8080/"
        },
        "id": "EJDEQ-2prOjc",
        "outputId": "614c8210-d1d4-4edf-fcbb-46fb9642ca64"
      },
      "execution_count": 93,
      "outputs": [
        {
          "output_type": "stream",
          "name": "stdout",
          "text": [
            "5\n"
          ]
        }
      ]
    }
  ]
}
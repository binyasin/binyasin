{
  "nbformat": 4,
  "nbformat_minor": 0,
  "metadata": {
    "colab": {
      "provenance": [],
      "authorship_tag": "ABX9TyNBwzs2z/hfBoD17Uip13+o",
      "include_colab_link": true
    },
    "kernelspec": {
      "name": "python3",
      "display_name": "Python 3"
    },
    "language_info": {
      "name": "python"
    }
  },
  "cells": [
    {
      "cell_type": "markdown",
      "metadata": {
        "id": "view-in-github",
        "colab_type": "text"
      },
      "source": [
        "<a href=\"https://colab.research.google.com/github/binyasin/binyasin/blob/main/ClassTuesday.ipynb\" target=\"_parent\"><img src=\"https://colab.research.google.com/assets/colab-badge.svg\" alt=\"Open In Colab\"/></a>"
      ]
    },
    {
      "cell_type": "code",
      "execution_count": 14,
      "metadata": {
        "colab": {
          "base_uri": "https://localhost:8080/"
        },
        "id": "mgodCUlshD2F",
        "outputId": "6d8e4b3d-4026-4c18-8a7c-96d118e33bd3"
      },
      "outputs": [
        {
          "output_type": "stream",
          "name": "stdout",
          "text": [
            "101\n",
            "Total Rabri : 25Kg\n"
          ]
        }
      ],
      "source": [
        "faculty = 12\n",
        "admin = 4\n",
        "Student = 100\n",
        "Tot = faculty+admin+Student\n",
        "Absent = 15\n",
        "Net =Tot- Absent\n",
        "print(Net)\n",
        "Rabri_per_Person = 250\n",
        "print(f\"Total Rabri : {Rabri_per_Person*Net//1000}Kg\")\n"
      ]
    },
    {
      "cell_type": "code",
      "source": [
        "num1 = int(input(\"Enter first number: \"))\n",
        "num2 = int(input(\"Enter second number: \"))\n",
        "print(f\"{num1} + {num2} = {num1+num2}\")\n",
        "print(f\"{num1} - {num2} = {num1-num2}\")\n",
        "print(f\"{num1} * {num2} = {num1*num2}\")\n",
        "print(f\"{num1} / {num2} = {num1/num2}\")\n",
        "print(f\"{num1} - {num2} = {num1-num2}\")\n",
        "print(f\"{num1} % {num2} = {num1%num2}\")\n",
        "print(f\"{num1} // {num2} = {num1//num2}\")\n",
        "print(f\"{num1} ** {num2} = {num1**num2}\")"
      ],
      "metadata": {
        "colab": {
          "base_uri": "https://localhost:8080/"
        },
        "id": "f1mqIEke6BHp",
        "outputId": "699f9e90-c5f6-4b1f-b20e-7994e7ccc5d2"
      },
      "execution_count": 15,
      "outputs": [
        {
          "output_type": "stream",
          "name": "stdout",
          "text": [
            "Enter first number: 10\n",
            "Enter second number: 5\n",
            "10 + 5 = 15\n",
            "10 - 5 = 5\n",
            "10 * 5 = 50\n",
            "10 / 5 = 2.0\n",
            "10 - 5 = 5\n",
            "10 % 5 = 0\n",
            "10 // 5 = 2\n",
            "10 ** 5 = 100000\n"
          ]
        }
      ]
    }
  ]
}
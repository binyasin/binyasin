{
  "nbformat": 4,
  "nbformat_minor": 0,
  "metadata": {
    "colab": {
      "provenance": [],
      "authorship_tag": "ABX9TyOzucLliZSYxEqgje0ongr/",
      "include_colab_link": true
    },
    "kernelspec": {
      "name": "python3",
      "display_name": "Python 3"
    },
    "language_info": {
      "name": "python"
    }
  },
  "cells": [
    {
      "cell_type": "markdown",
      "metadata": {
        "id": "view-in-github",
        "colab_type": "text"
      },
      "source": [
        "<a href=\"https://colab.research.google.com/github/binyasin/binyasin/blob/main/ClassTuesday.ipynb\" target=\"_parent\"><img src=\"https://colab.research.google.com/assets/colab-badge.svg\" alt=\"Open In Colab\"/></a>"
      ]
    },
    {
      "cell_type": "code",
      "execution_count": null,
      "metadata": {
        "colab": {
          "base_uri": "https://localhost:8080/"
        },
        "id": "mgodCUlshD2F",
        "outputId": "6d8e4b3d-4026-4c18-8a7c-96d118e33bd3"
      },
      "outputs": [
        {
          "output_type": "stream",
          "name": "stdout",
          "text": [
            "101\n",
            "Total Rabri : 25Kg\n"
          ]
        }
      ],
      "source": [
        "faculty = 12\n",
        "admin = 4\n",
        "Student = 100\n",
        "Tot = faculty+admin+Student\n",
        "Absent = 15\n",
        "Net =Tot- Absent\n",
        "print(Net)\n",
        "Rabri_per_Person = 250\n",
        "print(f\"Total Rabri : {Rabri_per_Person*Net//1000}Kg\")\n"
      ]
    },
    {
      "cell_type": "markdown",
      "source": [
        "![ProfilePic] (/content/Sirajimage.jpg)\n",
        "# Siraj Uddin                   \n",
        "House No. R-99 Universal <br> Royl City BinQasim Karachi<br>Phone  No.03443941457\n",
        "***\n",
        "## Qualifications\n",
        "+ Master Bussiness Administion(HRM)\n",
        " - Wafaqi Urdu Universtiy Karachi.\n",
        "+ Bechelor of Science\n",
        " - Karachi Universtiy\n",
        "+ F.Sc (Pre Engineering)\n",
        " - Peshawar Board of Intermediate and Secondary Eduction.\n",
        "+ Matric Science\n",
        " - Peshawar Board of Intermediate and Secondary Eduction.\n",
        " ---\n",
        " ### Experience.\n",
        "  + 10 Years Working Experience\n",
        "\n",
        "[x] Male <br> [ ] Female\n",
        "\n"
      ],
      "metadata": {
        "id": "0y_Ld0AeItyi"
      }
    },
    {
      "cell_type": "code",
      "source": [
        "vone = \"PAKISTAN\"\n",
        "print(type(vone))\n",
        "vtow = 500\n",
        "print(type(vtow))\n",
        "vthree = 3.14\n",
        "print(type(vthree))\n",
        "vfour = True\n",
        "print(type(vfour))\n",
        "vfive = False\n",
        "print(type(vfive))\n",
        "vsix = None\n",
        "print(type(vsix))\n",
        "vseven = [1,2,3,4,5]\n",
        "print(type(vseven))\n",
        "veight = (1,2,3,4,5)\n",
        "print(type(veight))\n",
        "vnine = [1,2,3,4,5]\n",
        "print(type(vnine))\n",
        "vten = {1,2,3,4,5}\n",
        "print(type(vten))\n",
        "veleven= {'a':100,'b':200,'c':300}\n",
        "print(type(veleven))"
      ],
      "metadata": {
        "colab": {
          "base_uri": "https://localhost:8080/"
        },
        "collapsed": true,
        "id": "jxABwKZiyjU7",
        "outputId": "bfd89b3f-95c8-43f2-9ff4-3634de2c47b8"
      },
      "execution_count": 3,
      "outputs": [
        {
          "output_type": "stream",
          "name": "stdout",
          "text": [
            "<class 'str'>\n",
            "<class 'int'>\n",
            "<class 'float'>\n",
            "<class 'bool'>\n",
            "<class 'bool'>\n",
            "<class 'NoneType'>\n",
            "<class 'list'>\n",
            "<class 'tuple'>\n",
            "<class 'list'>\n",
            "<class 'set'>\n",
            "<class 'dict'>\n"
          ]
        }
      ]
    }
  ]
}
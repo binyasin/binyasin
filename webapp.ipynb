{
  "nbformat": 4,
  "nbformat_minor": 0,
  "metadata": {
    "colab": {
      "provenance": [],
      "authorship_tag": "ABX9TyPlE6EZao1xnoEK3LjcLslW",
      "include_colab_link": true
    },
    "kernelspec": {
      "name": "python3",
      "display_name": "Python 3"
    },
    "language_info": {
      "name": "python"
    }
  },
  "cells": [
    {
      "cell_type": "markdown",
      "metadata": {
        "id": "view-in-github",
        "colab_type": "text"
      },
      "source": [
        "<a href=\"https://colab.research.google.com/github/binyasin/binyasin/blob/main/webapp.ipynb\" target=\"_parent\"><img src=\"https://colab.research.google.com/assets/colab-badge.svg\" alt=\"Open In Colab\"/></a>"
      ]
    },
    {
      "cell_type": "code",
      "execution_count": null,
      "metadata": {
        "id": "-twx98rDKhDU"
      },
      "outputs": [],
      "source": [
        "# prompt: Build a Python Website in 15 Minutes With Streamlit\n",
        "\n",
        "!pip install streamlit\n",
        "\n",
        "import streamlit as st\n",
        "\n",
        "st.title(\"My First Streamlit App\")\n",
        "\n",
        "st.write(\"Hello, world!\")\n",
        "\n",
        "name = st.text_input(\"Enter your name:\", \"Type Here ...\")\n",
        "if st.button(\"Submit\"):\n",
        "  st.write(f\"Hello, {name}!\")\n",
        "\n",
        "number = st.number_input(\"Insert a number\")\n",
        "st.write(\"The current number is \", number)\n",
        "\n",
        "option = st.selectbox(\n",
        "  'How would you like to be contacted?',\n",
        "  ('Email', 'Home phone', 'Mobile phone'))\n",
        "\n",
        "st.write('You selected:', option)\n",
        "\n",
        "\n",
        "import pandas as pd\n",
        "\n",
        "data = {\n",
        "  'Name': ['ADNAN', 'ASHFAQUE', 'AZAM'],\n",
        "  'Age': [25, 30, 28],\n",
        "  'City': ['KARACH', 'NAWAB SHAH', '']\n",
        "}\n",
        "df = pd.DataFrame(data)\n",
        "st.dataframe(df)\n",
        "\n",
        "# To run:\n",
        "# streamlit run your_script_name.py\n"
      ]
    }
  ]
}
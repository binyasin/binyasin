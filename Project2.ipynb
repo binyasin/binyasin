{
  "nbformat": 4,
  "nbformat_minor": 0,
  "metadata": {
    "colab": {
      "provenance": [],
      "authorship_tag": "ABX9TyMFjeCxygzWAUshWSpm8hDr",
      "include_colab_link": true
    },
    "kernelspec": {
      "name": "python3",
      "display_name": "Python 3"
    },
    "language_info": {
      "name": "python"
    }
  },
  "cells": [
    {
      "cell_type": "markdown",
      "metadata": {
        "id": "view-in-github",
        "colab_type": "text"
      },
      "source": [
        "<a href=\"https://colab.research.google.com/github/binyasin/binyasin/blob/main/Project2.ipynb\" target=\"_parent\"><img src=\"https://colab.research.google.com/assets/colab-badge.svg\" alt=\"Open In Colab\"/></a>"
      ]
    },
    {
      "cell_type": "markdown",
      "source": [
        "1. Simulate rolling two dice, three times. Prints the results of each die roll. This program is used to show how variable scope works.\n",
        "\n"
      ],
      "metadata": {
        "id": "biTU4Xx5-eR1"
      }
    },
    {
      "cell_type": "code",
      "source": [
        "import random\n",
        "\n",
        "def roll_dice():\n",
        "  return random.randint(1, 6)\n",
        "\n",
        "# Roll the dice two times\n",
        "roll1 = roll_dice()\n",
        "roll2 = roll_dice()\n",
        "\n",
        "# Print the results\n",
        "print(\"Roll 1:\", roll1)\n",
        "print(\"Roll 2:\", roll2)"
      ],
      "metadata": {
        "colab": {
          "base_uri": "https://localhost:8080/"
        },
        "id": "WVajUJ2LDz2w",
        "outputId": "8ba7c153-10e4-42be-8f67-c796bf30c2d0"
      },
      "execution_count": 31,
      "outputs": [
        {
          "output_type": "stream",
          "name": "stdout",
          "text": [
            "Roll 1: 1\n",
            "Roll 2: 6\n"
          ]
        }
      ]
    },
    {
      "cell_type": "markdown",
      "source": [
        "Write a program that continually reads in mass from the user and then outputs the equivalent energy using Einstein's mass-energy equivalence formula (E stands for energy, m stands for mass, and C is the speed of light:\n",
        "\n",
        "E = m * c**2"
      ],
      "metadata": {
        "id": "J7SEyLb_FEma"
      }
    },
    {
      "cell_type": "code",
      "source": [
        "mass = float(input(\"Enter a mass in Kg: \"))\n",
        "c =299792458\n",
        "mass = m\n",
        "E = m*c**2\n",
        "print(\"Energy is\", E, \"Joules\")"
      ],
      "metadata": {
        "colab": {
          "base_uri": "https://localhost:8080/"
        },
        "id": "mX7BNwzRFOJA",
        "outputId": "f206d92c-0af3-4fc2-8f2c-5ce9b3c358ca"
      },
      "execution_count": 33,
      "outputs": [
        {
          "output_type": "stream",
          "name": "stdout",
          "text": [
            "Enter a mass in Kg: 100\n",
            "Energy is 8.987551787368176e+18 Joules\n"
          ]
        }
      ]
    },
    {
      "cell_type": "markdown",
      "source": [
        "Converts feet to inches. Feet is an American unit of measurement. There are 12 inches per foot. Foot is the singular, and feet is the plural."
      ],
      "metadata": {
        "id": "tmdOm4XLGgxF"
      }
    },
    {
      "cell_type": "code",
      "source": [
        "ConvInch = float(input(\"Enter a number of feet: \"))\n",
        "ConvInch = ConvInch*12\n",
        "print(\"The number of inches is\", ConvInch)"
      ],
      "metadata": {
        "colab": {
          "base_uri": "https://localhost:8080/"
        },
        "id": "CFHn9FgOGibN",
        "outputId": "8b5f03d2-eafe-468f-9775-db6ea9d35c57"
      },
      "execution_count": 35,
      "outputs": [
        {
          "output_type": "stream",
          "name": "stdout",
          "text": [
            "Enter a number of feet: 5\n",
            "The number of inches is 60.0\n"
          ]
        }
      ]
    },
    {
      "cell_type": "markdown",
      "source": [
        "Write a program that asks the user for the lengths of the two perpendicular sides of a right triangle and outputs the length of the third side (the hypotenuse) using the Pythagorean theorem!  \n",
        "BC ** 2 = AB ** 2 + AC ** 2"
      ],
      "metadata": {
        "id": "6wyEzfLSKLbq"
      }
    },
    {
      "cell_type": "code",
      "source": [
        "def color(text, color_code):\n",
        "  \"\"\"Prints the given text in the specified color using ANSI escape codes.\"\"\"\n",
        "  print(\"\\033[\" + color_code + \"m\" + text + \"\\033[0m\")\n",
        "ab = float(input(\"Enter the length of side AB: \"))\n",
        "ac = float(input(\"Enter the length of side AC: \"))\n",
        "bc = (ab**2 + ac**2)**0.5\n",
        "print(\"The length of side BC is\", bc)"
      ],
      "metadata": {
        "colab": {
          "base_uri": "https://localhost:8080/"
        },
        "id": "FGalJ-_EKcVz",
        "outputId": "46a06db5-d482-4cd0-f625-e43733848bb9"
      },
      "execution_count": 66,
      "outputs": [
        {
          "output_type": "stream",
          "name": "stdout",
          "text": [
            "Enter the length of side AB: 3\n",
            "Enter the length of side AC: 4\n",
            "The length of side BC is 5.0\n"
          ]
        }
      ]
    },
    {
      "cell_type": "markdown",
      "source": [
        "Ask the user for two numbers, one at a time, and then print the result of dividing the first number by the second and also the remainder of the division.\n",
        "\n",
        "Here's a sample run of the program (user input is in bold italics):"
      ],
      "metadata": {
        "id": "FhHB-bsnK6Z-"
      }
    },
    {
      "cell_type": "code",
      "source": [
        "num = int(input(\"Enter a two number: \"))\n",
        "num2 = int(input(\"Enter a second number: \"))\n",
        "print(num/num2)\n",
        "print(num%num2)\n"
      ],
      "metadata": {
        "colab": {
          "base_uri": "https://localhost:8080/"
        },
        "id": "84YdNLueK_D7",
        "outputId": "7bd4f92e-9281-4c61-b0ed-35f58a670b04"
      },
      "execution_count": 57,
      "outputs": [
        {
          "output_type": "stream",
          "name": "stdout",
          "text": [
            "Enter a two number: 3\n",
            "Enter a second number: 4\n",
            "0.75\n",
            "3\n"
          ]
        }
      ]
    },
    {
      "cell_type": "code",
      "source": [
        "def print_bold_italic(text):\n",
        "  \"\"\"Prints the given text in bold and italics using ANSI escape codes.\"\"\"\n",
        "  print(\"\\033[1;3m\" + text + \"\\033[0m\")\n",
        "\n",
        "# Example usage:\n",
        "print_bold_italic(\"This text is bold and italic!\")"
      ],
      "metadata": {
        "colab": {
          "base_uri": "https://localhost:8080/"
        },
        "id": "nwta0WqXNX15",
        "outputId": "8e427dd0-bfdb-4679-a7bd-733b96e40be5"
      },
      "execution_count": 58,
      "outputs": [
        {
          "output_type": "stream",
          "name": "stdout",
          "text": [
            "\u001b[1;3mThis text is bold and italic!\u001b[0m\n"
          ]
        }
      ]
    },
    {
      "cell_type": "code",
      "source": [
        "def print_colored(text, color_code):\n",
        "  \"\"\"Prints the given text in the specified color using ANSI escape codes.\"\"\"\n",
        "  print(\"\\033[\" + color_code + \"m\" + text + \"\\033[0m\")\n",
        "\n",
        "# Example usage:\n",
        "print_colored(\"This text is red!\", \"31\")  # 31 is the code for red\n",
        "print_colored(\"This text is green!\", \"32\") # 32 is the code for green\n",
        "print_colored(\"This text is yellow!\", \"33\") # 33 is the code for yellow\n",
        "print_colored(\"This text is blue!\", \"34\")  # 34 is the code for blue\n",
        "print_colored(\"This text is magenta!\", \"35\") # 35 is the code for magenta\n",
        "print_colored(\"This text is cyan!\", \"36\")  # 36 is the code for cyan"
      ],
      "metadata": {
        "colab": {
          "base_uri": "https://localhost:8080/"
        },
        "id": "Q_KPBW--Nso9",
        "outputId": "8f92a261-8289-423f-d09e-0d943885d1ad"
      },
      "execution_count": 59,
      "outputs": [
        {
          "output_type": "stream",
          "name": "stdout",
          "text": [
            "\u001b[31mThis text is red!\u001b[0m\n",
            "\u001b[32mThis text is green!\u001b[0m\n",
            "\u001b[33mThis text is yellow!\u001b[0m\n",
            "\u001b[34mThis text is blue!\u001b[0m\n",
            "\u001b[35mThis text is magenta!\u001b[0m\n",
            "\u001b[36mThis text is cyan!\u001b[0m\n"
          ]
        }
      ]
    },
    {
      "cell_type": "code",
      "source": [
        "def print_text_with_background(text, background_color_code):\n",
        "  \"\"\"Prints the given text with the specified background color using ANSI escape codes.\"\"\"\n",
        "  print(\"\\033[\" + background_color_code + \"m\" + text + \"\\033[0m\")\n",
        "\n",
        "# Example usage:\n",
        "print_text_with_background(\"This text has a red background!\", \"41\")  # 41 is the code for red background\n",
        "print_text_with_background(\"This text has a green background!\", \"42\") # 42 is the code for green background\n",
        "print_text_with_background(\"This text has a yellow background!\", \"43\") # 43 is the code for yellow background\n",
        "print_text_with_background(\"This text has a blue background!\", \"44\")  # 44 is the code for blue background\n",
        "print_text_with_background(\"This text has a magenta background!\", \"45\") # 45 is the code for magenta background\n",
        "print_text_with_background(\"This text has a cyan background!\", \"46\")  # 46 is the code for cyan background"
      ],
      "metadata": {
        "colab": {
          "base_uri": "https://localhost:8080/"
        },
        "id": "HYM-kvQfO9Ij",
        "outputId": "d89c7ac3-1e0e-44a7-9a7a-b6dfa4504be1"
      },
      "execution_count": 67,
      "outputs": [
        {
          "output_type": "stream",
          "name": "stdout",
          "text": [
            "\u001b[41mThis text has a red background!\u001b[0m\n",
            "\u001b[42mThis text has a green background!\u001b[0m\n",
            "\u001b[43mThis text has a yellow background!\u001b[0m\n",
            "\u001b[44mThis text has a blue background!\u001b[0m\n",
            "\u001b[45mThis text has a magenta background!\u001b[0m\n",
            "\u001b[46mThis text has a cyan background!\u001b[0m\n"
          ]
        }
      ]
    },
    {
      "cell_type": "markdown",
      "source": [
        "Simulate rolling two dice, and prints results of each roll as well as the total."
      ],
      "metadata": {
        "id": "Rsc3USSgPckj"
      }
    },
    {
      "cell_type": "code",
      "source": [
        "# prompt: Simulate rolling two dice, and prints results of each roll as well as the total.\n",
        "\n",
        "import random\n",
        "\n",
        "def roll_dice():\n",
        "  return random.randint(1, 6)\n",
        "\n",
        "# Roll the dice two times\n",
        "roll1 = roll_dice()\n",
        "roll2 = roll_dice()\n",
        "\n",
        "# Calculate the total\n",
        "total = roll1 + roll2\n",
        "\n",
        "# Print the results\n",
        "print(\"Roll 1:\", roll1)\n",
        "print(\"Roll 2:\", roll2)\n",
        "print(\"Total:\", total)"
      ],
      "metadata": {
        "colab": {
          "base_uri": "https://localhost:8080/"
        },
        "id": "FpPjkDpZPeND",
        "outputId": "c490eeba-b4fe-4a4e-a16d-9792564ac2d5"
      },
      "execution_count": 68,
      "outputs": [
        {
          "output_type": "stream",
          "name": "stdout",
          "text": [
            "Roll 1: 4\n",
            "Roll 2: 5\n",
            "Total: 9\n"
          ]
        }
      ]
    },
    {
      "cell_type": "markdown",
      "source": [
        "Use Python to calculate the number of seconds in a year, and tell the user what the result is in a nice print statement that looks like this (of course the value 5 should be the calculated number instead):\n",
        "\n",
        "There are 5 seconds in a year!"
      ],
      "metadata": {
        "id": "woQ-AOf5QIaG"
      }
    },
    {
      "cell_type": "code",
      "source": [
        "sec = 60\n",
        "min = 60\n",
        "hour = 24\n",
        "day = 365\n",
        "calsec = sec*min*hour*day\n",
        "print(\"There are\", calsec,\"seconds in a year\")"
      ],
      "metadata": {
        "colab": {
          "base_uri": "https://localhost:8080/"
        },
        "id": "vIvNd1m2QJ4R",
        "outputId": "a4f72648-4c5a-4406-d910-0678eb4d49db"
      },
      "execution_count": 71,
      "outputs": [
        {
          "output_type": "stream",
          "name": "stdout",
          "text": [
            "There are 31536000 seconds in a year\n"
          ]
        }
      ]
    },
    {
      "cell_type": "markdown",
      "source": [
        "Write a program which prompts the user for an adjective, then a noun, then a verb, and then prints a fun sentence with those words!"
      ],
      "metadata": {
        "id": "-WTTrBIjRNFR"
      }
    },
    {
      "cell_type": "code",
      "source": [
        "adj = input(\"Enter an adjective: \")\n",
        "noun = input(\"Enter a noun: \")\n",
        "verb = input(\"Enter a verb: \")\n",
        "print(\"The\", adj, noun, verb, )\n"
      ],
      "metadata": {
        "colab": {
          "base_uri": "https://localhost:8080/"
        },
        "id": "M2s4icsSQY13",
        "outputId": "be21952a-3383-44b5-b466-420ed82d36ed"
      },
      "execution_count": 74,
      "outputs": [
        {
          "output_type": "stream",
          "name": "stdout",
          "text": [
            "Enter an adjective: tiny\n",
            "Enter a noun: plant\n",
            "Enter a verb: fly\n",
            "The tiny plant fly\n"
          ]
        }
      ]
    }
  ]
}